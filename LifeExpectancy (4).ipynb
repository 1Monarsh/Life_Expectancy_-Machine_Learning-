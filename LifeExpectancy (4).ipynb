{
  "cells": [
    {
      "cell_type": "code",
      "execution_count": 64,
      "metadata": {
        "colab": {
          "base_uri": "https://localhost:8080/"
        },
        "id": "z3mreS6pe4dX",
        "outputId": "0382c976-0361-4a61-adfa-c6a45ed779bc"
      },
      "outputs": [
        {
          "output_type": "stream",
          "name": "stdout",
          "text": [
            "Requirement already satisfied: xgboost in /usr/local/lib/python3.7/dist-packages (0.90)\n",
            "Requirement already satisfied: numpy in /usr/local/lib/python3.7/dist-packages (from xgboost) (1.21.5)\n",
            "Requirement already satisfied: scipy in /usr/local/lib/python3.7/dist-packages (from xgboost) (1.4.1)\n"
          ]
        }
      ],
      "source": [
        "!pip install xgboost"
      ]
    },
    {
      "cell_type": "code",
      "execution_count": 65,
      "metadata": {
        "id": "9pe0T9Bre4da"
      },
      "outputs": [],
      "source": [
        "import pandas as pd\n",
        "import matplotlib.pyplot as plt \n",
        "import numpy as np\n",
        "import seaborn as sns\n",
        "from sklearn.preprocessing import OrdinalEncoder\n",
        "from sklearn.model_selection import train_test_split\n",
        "from sklearn.linear_model import LinearRegression\n",
        "from sklearn.linear_model import Lasso\n",
        "from sklearn.linear_model import Ridge\n",
        "from sklearn.neighbors import KNeighborsRegressor\n",
        "from sklearn.ensemble import RandomForestRegressor\n",
        "from xgboost.sklearn import XGBRegressor\n",
        "from scipy.stats import zscore\n",
        "from sklearn.feature_selection import SelectKBest\n",
        "from sklearn.feature_selection import f_regression\n",
        "from sklearn.metrics import r2_score\n",
        "from sklearn.model_selection import GridSearchCV, RandomizedSearchCV\n",
        "from sklearn.model_selection import RepeatedKFold, RepeatedStratifiedKFold\n",
        "from sklearn.linear_model import RidgeCV"
      ]
    },
    {
      "cell_type": "code",
      "execution_count": 66,
      "metadata": {
        "id": "T2RaP9H1e4da"
      },
      "outputs": [],
      "source": [
        "#reading the csv as data frame\n",
        "data = pd.read_csv('Life Expectancy Data.csv')"
      ]
    },
    {
      "cell_type": "code",
      "execution_count": 67,
      "metadata": {
        "id": "6bzma9J7e4db",
        "colab": {
          "base_uri": "https://localhost:8080/",
          "height": 351
        },
        "outputId": "d4914f36-6d28-48a4-e22f-f58d15cb0ef2"
      },
      "outputs": [
        {
          "output_type": "execute_result",
          "data": {
            "text/plain": [
              "       Country  Year      Status  Life expectancy   Adult Mortality  \\\n",
              "0  Afghanistan  2015  Developing              65.0            263.0   \n",
              "1  Afghanistan  2014  Developing              59.9            271.0   \n",
              "2  Afghanistan  2013  Developing              59.9            268.0   \n",
              "3  Afghanistan  2012  Developing              59.5            272.0   \n",
              "4  Afghanistan  2011  Developing              59.2            275.0   \n",
              "\n",
              "   infant deaths  Alcohol  percentage expenditure  Hepatitis B  Measles   ...  \\\n",
              "0             62     0.01               71.279624         65.0      1154  ...   \n",
              "1             64     0.01               73.523582         62.0       492  ...   \n",
              "2             66     0.01               73.219243         64.0       430  ...   \n",
              "3             69     0.01               78.184215         67.0      2787  ...   \n",
              "4             71     0.01                7.097109         68.0      3013  ...   \n",
              "\n",
              "   Polio  Total expenditure  Diphtheria    HIV/AIDS         GDP  Population  \\\n",
              "0    6.0               8.16         65.0        0.1  584.259210  33736494.0   \n",
              "1   58.0               8.18         62.0        0.1  612.696514    327582.0   \n",
              "2   62.0               8.13         64.0        0.1  631.744976  31731688.0   \n",
              "3   67.0               8.52         67.0        0.1  669.959000   3696958.0   \n",
              "4   68.0               7.87         68.0        0.1   63.537231   2978599.0   \n",
              "\n",
              "    thinness  1-19 years   thinness 5-9 years  \\\n",
              "0                   17.2                 17.3   \n",
              "1                   17.5                 17.5   \n",
              "2                   17.7                 17.7   \n",
              "3                   17.9                 18.0   \n",
              "4                   18.2                 18.2   \n",
              "\n",
              "   Income composition of resources  Schooling  \n",
              "0                            0.479       10.1  \n",
              "1                            0.476       10.0  \n",
              "2                            0.470        9.9  \n",
              "3                            0.463        9.8  \n",
              "4                            0.454        9.5  \n",
              "\n",
              "[5 rows x 22 columns]"
            ],
            "text/html": [
              "\n",
              "  <div id=\"df-fb2f647c-787f-47ab-ad0e-018a87cfa1be\">\n",
              "    <div class=\"colab-df-container\">\n",
              "      <div>\n",
              "<style scoped>\n",
              "    .dataframe tbody tr th:only-of-type {\n",
              "        vertical-align: middle;\n",
              "    }\n",
              "\n",
              "    .dataframe tbody tr th {\n",
              "        vertical-align: top;\n",
              "    }\n",
              "\n",
              "    .dataframe thead th {\n",
              "        text-align: right;\n",
              "    }\n",
              "</style>\n",
              "<table border=\"1\" class=\"dataframe\">\n",
              "  <thead>\n",
              "    <tr style=\"text-align: right;\">\n",
              "      <th></th>\n",
              "      <th>Country</th>\n",
              "      <th>Year</th>\n",
              "      <th>Status</th>\n",
              "      <th>Life expectancy</th>\n",
              "      <th>Adult Mortality</th>\n",
              "      <th>infant deaths</th>\n",
              "      <th>Alcohol</th>\n",
              "      <th>percentage expenditure</th>\n",
              "      <th>Hepatitis B</th>\n",
              "      <th>Measles</th>\n",
              "      <th>...</th>\n",
              "      <th>Polio</th>\n",
              "      <th>Total expenditure</th>\n",
              "      <th>Diphtheria</th>\n",
              "      <th>HIV/AIDS</th>\n",
              "      <th>GDP</th>\n",
              "      <th>Population</th>\n",
              "      <th>thinness  1-19 years</th>\n",
              "      <th>thinness 5-9 years</th>\n",
              "      <th>Income composition of resources</th>\n",
              "      <th>Schooling</th>\n",
              "    </tr>\n",
              "  </thead>\n",
              "  <tbody>\n",
              "    <tr>\n",
              "      <th>0</th>\n",
              "      <td>Afghanistan</td>\n",
              "      <td>2015</td>\n",
              "      <td>Developing</td>\n",
              "      <td>65.0</td>\n",
              "      <td>263.0</td>\n",
              "      <td>62</td>\n",
              "      <td>0.01</td>\n",
              "      <td>71.279624</td>\n",
              "      <td>65.0</td>\n",
              "      <td>1154</td>\n",
              "      <td>...</td>\n",
              "      <td>6.0</td>\n",
              "      <td>8.16</td>\n",
              "      <td>65.0</td>\n",
              "      <td>0.1</td>\n",
              "      <td>584.259210</td>\n",
              "      <td>33736494.0</td>\n",
              "      <td>17.2</td>\n",
              "      <td>17.3</td>\n",
              "      <td>0.479</td>\n",
              "      <td>10.1</td>\n",
              "    </tr>\n",
              "    <tr>\n",
              "      <th>1</th>\n",
              "      <td>Afghanistan</td>\n",
              "      <td>2014</td>\n",
              "      <td>Developing</td>\n",
              "      <td>59.9</td>\n",
              "      <td>271.0</td>\n",
              "      <td>64</td>\n",
              "      <td>0.01</td>\n",
              "      <td>73.523582</td>\n",
              "      <td>62.0</td>\n",
              "      <td>492</td>\n",
              "      <td>...</td>\n",
              "      <td>58.0</td>\n",
              "      <td>8.18</td>\n",
              "      <td>62.0</td>\n",
              "      <td>0.1</td>\n",
              "      <td>612.696514</td>\n",
              "      <td>327582.0</td>\n",
              "      <td>17.5</td>\n",
              "      <td>17.5</td>\n",
              "      <td>0.476</td>\n",
              "      <td>10.0</td>\n",
              "    </tr>\n",
              "    <tr>\n",
              "      <th>2</th>\n",
              "      <td>Afghanistan</td>\n",
              "      <td>2013</td>\n",
              "      <td>Developing</td>\n",
              "      <td>59.9</td>\n",
              "      <td>268.0</td>\n",
              "      <td>66</td>\n",
              "      <td>0.01</td>\n",
              "      <td>73.219243</td>\n",
              "      <td>64.0</td>\n",
              "      <td>430</td>\n",
              "      <td>...</td>\n",
              "      <td>62.0</td>\n",
              "      <td>8.13</td>\n",
              "      <td>64.0</td>\n",
              "      <td>0.1</td>\n",
              "      <td>631.744976</td>\n",
              "      <td>31731688.0</td>\n",
              "      <td>17.7</td>\n",
              "      <td>17.7</td>\n",
              "      <td>0.470</td>\n",
              "      <td>9.9</td>\n",
              "    </tr>\n",
              "    <tr>\n",
              "      <th>3</th>\n",
              "      <td>Afghanistan</td>\n",
              "      <td>2012</td>\n",
              "      <td>Developing</td>\n",
              "      <td>59.5</td>\n",
              "      <td>272.0</td>\n",
              "      <td>69</td>\n",
              "      <td>0.01</td>\n",
              "      <td>78.184215</td>\n",
              "      <td>67.0</td>\n",
              "      <td>2787</td>\n",
              "      <td>...</td>\n",
              "      <td>67.0</td>\n",
              "      <td>8.52</td>\n",
              "      <td>67.0</td>\n",
              "      <td>0.1</td>\n",
              "      <td>669.959000</td>\n",
              "      <td>3696958.0</td>\n",
              "      <td>17.9</td>\n",
              "      <td>18.0</td>\n",
              "      <td>0.463</td>\n",
              "      <td>9.8</td>\n",
              "    </tr>\n",
              "    <tr>\n",
              "      <th>4</th>\n",
              "      <td>Afghanistan</td>\n",
              "      <td>2011</td>\n",
              "      <td>Developing</td>\n",
              "      <td>59.2</td>\n",
              "      <td>275.0</td>\n",
              "      <td>71</td>\n",
              "      <td>0.01</td>\n",
              "      <td>7.097109</td>\n",
              "      <td>68.0</td>\n",
              "      <td>3013</td>\n",
              "      <td>...</td>\n",
              "      <td>68.0</td>\n",
              "      <td>7.87</td>\n",
              "      <td>68.0</td>\n",
              "      <td>0.1</td>\n",
              "      <td>63.537231</td>\n",
              "      <td>2978599.0</td>\n",
              "      <td>18.2</td>\n",
              "      <td>18.2</td>\n",
              "      <td>0.454</td>\n",
              "      <td>9.5</td>\n",
              "    </tr>\n",
              "  </tbody>\n",
              "</table>\n",
              "<p>5 rows × 22 columns</p>\n",
              "</div>\n",
              "      <button class=\"colab-df-convert\" onclick=\"convertToInteractive('df-fb2f647c-787f-47ab-ad0e-018a87cfa1be')\"\n",
              "              title=\"Convert this dataframe to an interactive table.\"\n",
              "              style=\"display:none;\">\n",
              "        \n",
              "  <svg xmlns=\"http://www.w3.org/2000/svg\" height=\"24px\"viewBox=\"0 0 24 24\"\n",
              "       width=\"24px\">\n",
              "    <path d=\"M0 0h24v24H0V0z\" fill=\"none\"/>\n",
              "    <path d=\"M18.56 5.44l.94 2.06.94-2.06 2.06-.94-2.06-.94-.94-2.06-.94 2.06-2.06.94zm-11 1L8.5 8.5l.94-2.06 2.06-.94-2.06-.94L8.5 2.5l-.94 2.06-2.06.94zm10 10l.94 2.06.94-2.06 2.06-.94-2.06-.94-.94-2.06-.94 2.06-2.06.94z\"/><path d=\"M17.41 7.96l-1.37-1.37c-.4-.4-.92-.59-1.43-.59-.52 0-1.04.2-1.43.59L10.3 9.45l-7.72 7.72c-.78.78-.78 2.05 0 2.83L4 21.41c.39.39.9.59 1.41.59.51 0 1.02-.2 1.41-.59l7.78-7.78 2.81-2.81c.8-.78.8-2.07 0-2.86zM5.41 20L4 18.59l7.72-7.72 1.47 1.35L5.41 20z\"/>\n",
              "  </svg>\n",
              "      </button>\n",
              "      \n",
              "  <style>\n",
              "    .colab-df-container {\n",
              "      display:flex;\n",
              "      flex-wrap:wrap;\n",
              "      gap: 12px;\n",
              "    }\n",
              "\n",
              "    .colab-df-convert {\n",
              "      background-color: #E8F0FE;\n",
              "      border: none;\n",
              "      border-radius: 50%;\n",
              "      cursor: pointer;\n",
              "      display: none;\n",
              "      fill: #1967D2;\n",
              "      height: 32px;\n",
              "      padding: 0 0 0 0;\n",
              "      width: 32px;\n",
              "    }\n",
              "\n",
              "    .colab-df-convert:hover {\n",
              "      background-color: #E2EBFA;\n",
              "      box-shadow: 0px 1px 2px rgba(60, 64, 67, 0.3), 0px 1px 3px 1px rgba(60, 64, 67, 0.15);\n",
              "      fill: #174EA6;\n",
              "    }\n",
              "\n",
              "    [theme=dark] .colab-df-convert {\n",
              "      background-color: #3B4455;\n",
              "      fill: #D2E3FC;\n",
              "    }\n",
              "\n",
              "    [theme=dark] .colab-df-convert:hover {\n",
              "      background-color: #434B5C;\n",
              "      box-shadow: 0px 1px 3px 1px rgba(0, 0, 0, 0.15);\n",
              "      filter: drop-shadow(0px 1px 2px rgba(0, 0, 0, 0.3));\n",
              "      fill: #FFFFFF;\n",
              "    }\n",
              "  </style>\n",
              "\n",
              "      <script>\n",
              "        const buttonEl =\n",
              "          document.querySelector('#df-fb2f647c-787f-47ab-ad0e-018a87cfa1be button.colab-df-convert');\n",
              "        buttonEl.style.display =\n",
              "          google.colab.kernel.accessAllowed ? 'block' : 'none';\n",
              "\n",
              "        async function convertToInteractive(key) {\n",
              "          const element = document.querySelector('#df-fb2f647c-787f-47ab-ad0e-018a87cfa1be');\n",
              "          const dataTable =\n",
              "            await google.colab.kernel.invokeFunction('convertToInteractive',\n",
              "                                                     [key], {});\n",
              "          if (!dataTable) return;\n",
              "\n",
              "          const docLinkHtml = 'Like what you see? Visit the ' +\n",
              "            '<a target=\"_blank\" href=https://colab.research.google.com/notebooks/data_table.ipynb>data table notebook</a>'\n",
              "            + ' to learn more about interactive tables.';\n",
              "          element.innerHTML = '';\n",
              "          dataTable['output_type'] = 'display_data';\n",
              "          await google.colab.output.renderOutput(dataTable, element);\n",
              "          const docLink = document.createElement('div');\n",
              "          docLink.innerHTML = docLinkHtml;\n",
              "          element.appendChild(docLink);\n",
              "        }\n",
              "      </script>\n",
              "    </div>\n",
              "  </div>\n",
              "  "
            ]
          },
          "metadata": {},
          "execution_count": 67
        }
      ],
      "source": [
        "data.head()"
      ]
    },
    {
      "cell_type": "code",
      "execution_count": 68,
      "metadata": {
        "id": "733A-A3we4db",
        "outputId": "b8a233a2-f085-40b2-ec7b-be74c4138afa",
        "colab": {
          "base_uri": "https://localhost:8080/"
        }
      },
      "outputs": [
        {
          "output_type": "execute_result",
          "data": {
            "text/plain": [
              "(2938, 22)"
            ]
          },
          "metadata": {},
          "execution_count": 68
        }
      ],
      "source": [
        "data.shape"
      ]
    },
    {
      "cell_type": "code",
      "execution_count": 69,
      "metadata": {
        "id": "PLzmLGYSe4db",
        "outputId": "058fc980-fa2e-4235-9792-1796c9ba01e1",
        "colab": {
          "base_uri": "https://localhost:8080/"
        }
      },
      "outputs": [
        {
          "output_type": "stream",
          "name": "stdout",
          "text": [
            "<class 'pandas.core.frame.DataFrame'>\n",
            "RangeIndex: 2938 entries, 0 to 2937\n",
            "Data columns (total 22 columns):\n",
            " #   Column                           Non-Null Count  Dtype  \n",
            "---  ------                           --------------  -----  \n",
            " 0   Country                          2938 non-null   object \n",
            " 1   Year                             2938 non-null   int64  \n",
            " 2   Status                           2938 non-null   object \n",
            " 3   Life expectancy                  2928 non-null   float64\n",
            " 4   Adult Mortality                  2928 non-null   float64\n",
            " 5   infant deaths                    2938 non-null   int64  \n",
            " 6   Alcohol                          2744 non-null   float64\n",
            " 7   percentage expenditure           2938 non-null   float64\n",
            " 8   Hepatitis B                      2385 non-null   float64\n",
            " 9   Measles                          2938 non-null   int64  \n",
            " 10   BMI                             2904 non-null   float64\n",
            " 11  under-five deaths                2938 non-null   int64  \n",
            " 12  Polio                            2919 non-null   float64\n",
            " 13  Total expenditure                2712 non-null   float64\n",
            " 14  Diphtheria                       2919 non-null   float64\n",
            " 15   HIV/AIDS                        2938 non-null   float64\n",
            " 16  GDP                              2490 non-null   float64\n",
            " 17  Population                       2286 non-null   float64\n",
            " 18   thinness  1-19 years            2904 non-null   float64\n",
            " 19   thinness 5-9 years              2904 non-null   float64\n",
            " 20  Income composition of resources  2771 non-null   float64\n",
            " 21  Schooling                        2775 non-null   float64\n",
            "dtypes: float64(16), int64(4), object(2)\n",
            "memory usage: 505.1+ KB\n"
          ]
        }
      ],
      "source": [
        "data.info()"
      ]
    },
    {
      "cell_type": "code",
      "execution_count": 70,
      "metadata": {
        "id": "WpsOQQZ-e4dc",
        "outputId": "5821194a-80b2-41d6-ffc0-c45d82a828c3",
        "colab": {
          "base_uri": "https://localhost:8080/",
          "height": 416
        }
      },
      "outputs": [
        {
          "output_type": "execute_result",
          "data": {
            "text/plain": [
              "              Year  Life expectancy   Adult Mortality  infant deaths  \\\n",
              "count  2938.000000       2928.000000      2928.000000    2938.000000   \n",
              "mean   2007.518720         69.224932       164.796448      30.303948   \n",
              "std       4.613841          9.523867       124.292079     117.926501   \n",
              "min    2000.000000         36.300000         1.000000       0.000000   \n",
              "25%    2004.000000         63.100000        74.000000       0.000000   \n",
              "50%    2008.000000         72.100000       144.000000       3.000000   \n",
              "75%    2012.000000         75.700000       228.000000      22.000000   \n",
              "max    2015.000000         89.000000       723.000000    1800.000000   \n",
              "\n",
              "           Alcohol  percentage expenditure  Hepatitis B       Measles   \\\n",
              "count  2744.000000             2938.000000  2385.000000    2938.000000   \n",
              "mean      4.602861              738.251295    80.940461    2419.592240   \n",
              "std       4.052413             1987.914858    25.070016   11467.272489   \n",
              "min       0.010000                0.000000     1.000000       0.000000   \n",
              "25%       0.877500                4.685343    77.000000       0.000000   \n",
              "50%       3.755000               64.912906    92.000000      17.000000   \n",
              "75%       7.702500              441.534144    97.000000     360.250000   \n",
              "max      17.870000            19479.911610    99.000000  212183.000000   \n",
              "\n",
              "              BMI   under-five deaths         Polio  Total expenditure  \\\n",
              "count  2904.000000         2938.000000  2919.000000         2712.00000   \n",
              "mean     38.321247           42.035739    82.550188            5.93819   \n",
              "std      20.044034          160.445548    23.428046            2.49832   \n",
              "min       1.000000            0.000000     3.000000            0.37000   \n",
              "25%      19.300000            0.000000    78.000000            4.26000   \n",
              "50%      43.500000            4.000000    93.000000            5.75500   \n",
              "75%      56.200000           28.000000    97.000000            7.49250   \n",
              "max      87.300000         2500.000000    99.000000           17.60000   \n",
              "\n",
              "       Diphtheria      HIV/AIDS            GDP    Population  \\\n",
              "count  2919.000000  2938.000000    2490.000000  2.286000e+03   \n",
              "mean     82.324084     1.742103    7483.158469  1.275338e+07   \n",
              "std      23.716912     5.077785   14270.169342  6.101210e+07   \n",
              "min       2.000000     0.100000       1.681350  3.400000e+01   \n",
              "25%      78.000000     0.100000     463.935626  1.957932e+05   \n",
              "50%      93.000000     0.100000    1766.947595  1.386542e+06   \n",
              "75%      97.000000     0.800000    5910.806335  7.420359e+06   \n",
              "max      99.000000    50.600000  119172.741800  1.293859e+09   \n",
              "\n",
              "        thinness  1-19 years   thinness 5-9 years  \\\n",
              "count            2904.000000          2904.000000   \n",
              "mean                4.839704             4.870317   \n",
              "std                 4.420195             4.508882   \n",
              "min                 0.100000             0.100000   \n",
              "25%                 1.600000             1.500000   \n",
              "50%                 3.300000             3.300000   \n",
              "75%                 7.200000             7.200000   \n",
              "max                27.700000            28.600000   \n",
              "\n",
              "       Income composition of resources    Schooling  \n",
              "count                      2771.000000  2775.000000  \n",
              "mean                          0.627551    11.992793  \n",
              "std                           0.210904     3.358920  \n",
              "min                           0.000000     0.000000  \n",
              "25%                           0.493000    10.100000  \n",
              "50%                           0.677000    12.300000  \n",
              "75%                           0.779000    14.300000  \n",
              "max                           0.948000    20.700000  "
            ],
            "text/html": [
              "\n",
              "  <div id=\"df-f336c05e-2ff9-4a8f-bbc0-0732676958cc\">\n",
              "    <div class=\"colab-df-container\">\n",
              "      <div>\n",
              "<style scoped>\n",
              "    .dataframe tbody tr th:only-of-type {\n",
              "        vertical-align: middle;\n",
              "    }\n",
              "\n",
              "    .dataframe tbody tr th {\n",
              "        vertical-align: top;\n",
              "    }\n",
              "\n",
              "    .dataframe thead th {\n",
              "        text-align: right;\n",
              "    }\n",
              "</style>\n",
              "<table border=\"1\" class=\"dataframe\">\n",
              "  <thead>\n",
              "    <tr style=\"text-align: right;\">\n",
              "      <th></th>\n",
              "      <th>Year</th>\n",
              "      <th>Life expectancy</th>\n",
              "      <th>Adult Mortality</th>\n",
              "      <th>infant deaths</th>\n",
              "      <th>Alcohol</th>\n",
              "      <th>percentage expenditure</th>\n",
              "      <th>Hepatitis B</th>\n",
              "      <th>Measles</th>\n",
              "      <th>BMI</th>\n",
              "      <th>under-five deaths</th>\n",
              "      <th>Polio</th>\n",
              "      <th>Total expenditure</th>\n",
              "      <th>Diphtheria</th>\n",
              "      <th>HIV/AIDS</th>\n",
              "      <th>GDP</th>\n",
              "      <th>Population</th>\n",
              "      <th>thinness  1-19 years</th>\n",
              "      <th>thinness 5-9 years</th>\n",
              "      <th>Income composition of resources</th>\n",
              "      <th>Schooling</th>\n",
              "    </tr>\n",
              "  </thead>\n",
              "  <tbody>\n",
              "    <tr>\n",
              "      <th>count</th>\n",
              "      <td>2938.000000</td>\n",
              "      <td>2928.000000</td>\n",
              "      <td>2928.000000</td>\n",
              "      <td>2938.000000</td>\n",
              "      <td>2744.000000</td>\n",
              "      <td>2938.000000</td>\n",
              "      <td>2385.000000</td>\n",
              "      <td>2938.000000</td>\n",
              "      <td>2904.000000</td>\n",
              "      <td>2938.000000</td>\n",
              "      <td>2919.000000</td>\n",
              "      <td>2712.00000</td>\n",
              "      <td>2919.000000</td>\n",
              "      <td>2938.000000</td>\n",
              "      <td>2490.000000</td>\n",
              "      <td>2.286000e+03</td>\n",
              "      <td>2904.000000</td>\n",
              "      <td>2904.000000</td>\n",
              "      <td>2771.000000</td>\n",
              "      <td>2775.000000</td>\n",
              "    </tr>\n",
              "    <tr>\n",
              "      <th>mean</th>\n",
              "      <td>2007.518720</td>\n",
              "      <td>69.224932</td>\n",
              "      <td>164.796448</td>\n",
              "      <td>30.303948</td>\n",
              "      <td>4.602861</td>\n",
              "      <td>738.251295</td>\n",
              "      <td>80.940461</td>\n",
              "      <td>2419.592240</td>\n",
              "      <td>38.321247</td>\n",
              "      <td>42.035739</td>\n",
              "      <td>82.550188</td>\n",
              "      <td>5.93819</td>\n",
              "      <td>82.324084</td>\n",
              "      <td>1.742103</td>\n",
              "      <td>7483.158469</td>\n",
              "      <td>1.275338e+07</td>\n",
              "      <td>4.839704</td>\n",
              "      <td>4.870317</td>\n",
              "      <td>0.627551</td>\n",
              "      <td>11.992793</td>\n",
              "    </tr>\n",
              "    <tr>\n",
              "      <th>std</th>\n",
              "      <td>4.613841</td>\n",
              "      <td>9.523867</td>\n",
              "      <td>124.292079</td>\n",
              "      <td>117.926501</td>\n",
              "      <td>4.052413</td>\n",
              "      <td>1987.914858</td>\n",
              "      <td>25.070016</td>\n",
              "      <td>11467.272489</td>\n",
              "      <td>20.044034</td>\n",
              "      <td>160.445548</td>\n",
              "      <td>23.428046</td>\n",
              "      <td>2.49832</td>\n",
              "      <td>23.716912</td>\n",
              "      <td>5.077785</td>\n",
              "      <td>14270.169342</td>\n",
              "      <td>6.101210e+07</td>\n",
              "      <td>4.420195</td>\n",
              "      <td>4.508882</td>\n",
              "      <td>0.210904</td>\n",
              "      <td>3.358920</td>\n",
              "    </tr>\n",
              "    <tr>\n",
              "      <th>min</th>\n",
              "      <td>2000.000000</td>\n",
              "      <td>36.300000</td>\n",
              "      <td>1.000000</td>\n",
              "      <td>0.000000</td>\n",
              "      <td>0.010000</td>\n",
              "      <td>0.000000</td>\n",
              "      <td>1.000000</td>\n",
              "      <td>0.000000</td>\n",
              "      <td>1.000000</td>\n",
              "      <td>0.000000</td>\n",
              "      <td>3.000000</td>\n",
              "      <td>0.37000</td>\n",
              "      <td>2.000000</td>\n",
              "      <td>0.100000</td>\n",
              "      <td>1.681350</td>\n",
              "      <td>3.400000e+01</td>\n",
              "      <td>0.100000</td>\n",
              "      <td>0.100000</td>\n",
              "      <td>0.000000</td>\n",
              "      <td>0.000000</td>\n",
              "    </tr>\n",
              "    <tr>\n",
              "      <th>25%</th>\n",
              "      <td>2004.000000</td>\n",
              "      <td>63.100000</td>\n",
              "      <td>74.000000</td>\n",
              "      <td>0.000000</td>\n",
              "      <td>0.877500</td>\n",
              "      <td>4.685343</td>\n",
              "      <td>77.000000</td>\n",
              "      <td>0.000000</td>\n",
              "      <td>19.300000</td>\n",
              "      <td>0.000000</td>\n",
              "      <td>78.000000</td>\n",
              "      <td>4.26000</td>\n",
              "      <td>78.000000</td>\n",
              "      <td>0.100000</td>\n",
              "      <td>463.935626</td>\n",
              "      <td>1.957932e+05</td>\n",
              "      <td>1.600000</td>\n",
              "      <td>1.500000</td>\n",
              "      <td>0.493000</td>\n",
              "      <td>10.100000</td>\n",
              "    </tr>\n",
              "    <tr>\n",
              "      <th>50%</th>\n",
              "      <td>2008.000000</td>\n",
              "      <td>72.100000</td>\n",
              "      <td>144.000000</td>\n",
              "      <td>3.000000</td>\n",
              "      <td>3.755000</td>\n",
              "      <td>64.912906</td>\n",
              "      <td>92.000000</td>\n",
              "      <td>17.000000</td>\n",
              "      <td>43.500000</td>\n",
              "      <td>4.000000</td>\n",
              "      <td>93.000000</td>\n",
              "      <td>5.75500</td>\n",
              "      <td>93.000000</td>\n",
              "      <td>0.100000</td>\n",
              "      <td>1766.947595</td>\n",
              "      <td>1.386542e+06</td>\n",
              "      <td>3.300000</td>\n",
              "      <td>3.300000</td>\n",
              "      <td>0.677000</td>\n",
              "      <td>12.300000</td>\n",
              "    </tr>\n",
              "    <tr>\n",
              "      <th>75%</th>\n",
              "      <td>2012.000000</td>\n",
              "      <td>75.700000</td>\n",
              "      <td>228.000000</td>\n",
              "      <td>22.000000</td>\n",
              "      <td>7.702500</td>\n",
              "      <td>441.534144</td>\n",
              "      <td>97.000000</td>\n",
              "      <td>360.250000</td>\n",
              "      <td>56.200000</td>\n",
              "      <td>28.000000</td>\n",
              "      <td>97.000000</td>\n",
              "      <td>7.49250</td>\n",
              "      <td>97.000000</td>\n",
              "      <td>0.800000</td>\n",
              "      <td>5910.806335</td>\n",
              "      <td>7.420359e+06</td>\n",
              "      <td>7.200000</td>\n",
              "      <td>7.200000</td>\n",
              "      <td>0.779000</td>\n",
              "      <td>14.300000</td>\n",
              "    </tr>\n",
              "    <tr>\n",
              "      <th>max</th>\n",
              "      <td>2015.000000</td>\n",
              "      <td>89.000000</td>\n",
              "      <td>723.000000</td>\n",
              "      <td>1800.000000</td>\n",
              "      <td>17.870000</td>\n",
              "      <td>19479.911610</td>\n",
              "      <td>99.000000</td>\n",
              "      <td>212183.000000</td>\n",
              "      <td>87.300000</td>\n",
              "      <td>2500.000000</td>\n",
              "      <td>99.000000</td>\n",
              "      <td>17.60000</td>\n",
              "      <td>99.000000</td>\n",
              "      <td>50.600000</td>\n",
              "      <td>119172.741800</td>\n",
              "      <td>1.293859e+09</td>\n",
              "      <td>27.700000</td>\n",
              "      <td>28.600000</td>\n",
              "      <td>0.948000</td>\n",
              "      <td>20.700000</td>\n",
              "    </tr>\n",
              "  </tbody>\n",
              "</table>\n",
              "</div>\n",
              "      <button class=\"colab-df-convert\" onclick=\"convertToInteractive('df-f336c05e-2ff9-4a8f-bbc0-0732676958cc')\"\n",
              "              title=\"Convert this dataframe to an interactive table.\"\n",
              "              style=\"display:none;\">\n",
              "        \n",
              "  <svg xmlns=\"http://www.w3.org/2000/svg\" height=\"24px\"viewBox=\"0 0 24 24\"\n",
              "       width=\"24px\">\n",
              "    <path d=\"M0 0h24v24H0V0z\" fill=\"none\"/>\n",
              "    <path d=\"M18.56 5.44l.94 2.06.94-2.06 2.06-.94-2.06-.94-.94-2.06-.94 2.06-2.06.94zm-11 1L8.5 8.5l.94-2.06 2.06-.94-2.06-.94L8.5 2.5l-.94 2.06-2.06.94zm10 10l.94 2.06.94-2.06 2.06-.94-2.06-.94-.94-2.06-.94 2.06-2.06.94z\"/><path d=\"M17.41 7.96l-1.37-1.37c-.4-.4-.92-.59-1.43-.59-.52 0-1.04.2-1.43.59L10.3 9.45l-7.72 7.72c-.78.78-.78 2.05 0 2.83L4 21.41c.39.39.9.59 1.41.59.51 0 1.02-.2 1.41-.59l7.78-7.78 2.81-2.81c.8-.78.8-2.07 0-2.86zM5.41 20L4 18.59l7.72-7.72 1.47 1.35L5.41 20z\"/>\n",
              "  </svg>\n",
              "      </button>\n",
              "      \n",
              "  <style>\n",
              "    .colab-df-container {\n",
              "      display:flex;\n",
              "      flex-wrap:wrap;\n",
              "      gap: 12px;\n",
              "    }\n",
              "\n",
              "    .colab-df-convert {\n",
              "      background-color: #E8F0FE;\n",
              "      border: none;\n",
              "      border-radius: 50%;\n",
              "      cursor: pointer;\n",
              "      display: none;\n",
              "      fill: #1967D2;\n",
              "      height: 32px;\n",
              "      padding: 0 0 0 0;\n",
              "      width: 32px;\n",
              "    }\n",
              "\n",
              "    .colab-df-convert:hover {\n",
              "      background-color: #E2EBFA;\n",
              "      box-shadow: 0px 1px 2px rgba(60, 64, 67, 0.3), 0px 1px 3px 1px rgba(60, 64, 67, 0.15);\n",
              "      fill: #174EA6;\n",
              "    }\n",
              "\n",
              "    [theme=dark] .colab-df-convert {\n",
              "      background-color: #3B4455;\n",
              "      fill: #D2E3FC;\n",
              "    }\n",
              "\n",
              "    [theme=dark] .colab-df-convert:hover {\n",
              "      background-color: #434B5C;\n",
              "      box-shadow: 0px 1px 3px 1px rgba(0, 0, 0, 0.15);\n",
              "      filter: drop-shadow(0px 1px 2px rgba(0, 0, 0, 0.3));\n",
              "      fill: #FFFFFF;\n",
              "    }\n",
              "  </style>\n",
              "\n",
              "      <script>\n",
              "        const buttonEl =\n",
              "          document.querySelector('#df-f336c05e-2ff9-4a8f-bbc0-0732676958cc button.colab-df-convert');\n",
              "        buttonEl.style.display =\n",
              "          google.colab.kernel.accessAllowed ? 'block' : 'none';\n",
              "\n",
              "        async function convertToInteractive(key) {\n",
              "          const element = document.querySelector('#df-f336c05e-2ff9-4a8f-bbc0-0732676958cc');\n",
              "          const dataTable =\n",
              "            await google.colab.kernel.invokeFunction('convertToInteractive',\n",
              "                                                     [key], {});\n",
              "          if (!dataTable) return;\n",
              "\n",
              "          const docLinkHtml = 'Like what you see? Visit the ' +\n",
              "            '<a target=\"_blank\" href=https://colab.research.google.com/notebooks/data_table.ipynb>data table notebook</a>'\n",
              "            + ' to learn more about interactive tables.';\n",
              "          element.innerHTML = '';\n",
              "          dataTable['output_type'] = 'display_data';\n",
              "          await google.colab.output.renderOutput(dataTable, element);\n",
              "          const docLink = document.createElement('div');\n",
              "          docLink.innerHTML = docLinkHtml;\n",
              "          element.appendChild(docLink);\n",
              "        }\n",
              "      </script>\n",
              "    </div>\n",
              "  </div>\n",
              "  "
            ]
          },
          "metadata": {},
          "execution_count": 70
        }
      ],
      "source": [
        "data.describe()"
      ]
    },
    {
      "cell_type": "markdown",
      "metadata": {
        "id": "YYnhHfJQe4dc"
      },
      "source": [
        "We can see that the data has few missing values here and there"
      ]
    },
    {
      "cell_type": "code",
      "execution_count": 71,
      "metadata": {
        "id": "B2JoTugPe4dd",
        "outputId": "aca8a978-6985-400b-fb4f-1f73263a8c2d",
        "colab": {
          "base_uri": "https://localhost:8080/"
        }
      },
      "outputs": [
        {
          "output_type": "execute_result",
          "data": {
            "text/plain": [
              "Country                              0\n",
              "Year                                 0\n",
              "Status                               0\n",
              "Life expectancy                     10\n",
              "Adult Mortality                     10\n",
              "infant deaths                        0\n",
              "Alcohol                            194\n",
              "percentage expenditure               0\n",
              "Hepatitis B                        553\n",
              "Measles                              0\n",
              " BMI                                34\n",
              "under-five deaths                    0\n",
              "Polio                               19\n",
              "Total expenditure                  226\n",
              "Diphtheria                          19\n",
              " HIV/AIDS                            0\n",
              "GDP                                448\n",
              "Population                         652\n",
              " thinness  1-19 years               34\n",
              " thinness 5-9 years                 34\n",
              "Income composition of resources    167\n",
              "Schooling                          163\n",
              "dtype: int64"
            ]
          },
          "metadata": {},
          "execution_count": 71
        }
      ],
      "source": [
        "#we can start with dealing with the missing values \n",
        "data.isna().sum()"
      ]
    },
    {
      "cell_type": "code",
      "execution_count": 72,
      "metadata": {
        "id": "bHq1j5pLe4de"
      },
      "outputs": [],
      "source": [
        "#we will change the column names to something we can refer to easily \n",
        "data.columns = ['country', 'year', 'status', 'expectancy','adult_mortality', 'infant_death', 'alcohol', 'expenditure', 'hepatitis_b', 'measles', 'bmi', 'under_five_deaths', 'polio', 'total_expenditure', 'diphtheria', 'hiv_aids', 'gdp', 'population', 'thinness_1to19' , 'thinness_5to9', 'income_composition', 'schooling']"
      ]
    },
    {
      "cell_type": "code",
      "execution_count": 73,
      "metadata": {
        "id": "vWgGW9hbe4de",
        "outputId": "b10dbaed-1f5e-4a3b-9925-a124e6904d48",
        "colab": {
          "base_uri": "https://localhost:8080/",
          "height": 299
        }
      },
      "outputs": [
        {
          "output_type": "execute_result",
          "data": {
            "text/plain": [
              "       country  year      status  expectancy  adult_mortality  infant_death  \\\n",
              "0  Afghanistan  2015  Developing        65.0            263.0            62   \n",
              "1  Afghanistan  2014  Developing        59.9            271.0            64   \n",
              "2  Afghanistan  2013  Developing        59.9            268.0            66   \n",
              "3  Afghanistan  2012  Developing        59.5            272.0            69   \n",
              "4  Afghanistan  2011  Developing        59.2            275.0            71   \n",
              "\n",
              "   alcohol  expenditure  hepatitis_b  measles  ...  polio  total_expenditure  \\\n",
              "0     0.01    71.279624         65.0     1154  ...    6.0               8.16   \n",
              "1     0.01    73.523582         62.0      492  ...   58.0               8.18   \n",
              "2     0.01    73.219243         64.0      430  ...   62.0               8.13   \n",
              "3     0.01    78.184215         67.0     2787  ...   67.0               8.52   \n",
              "4     0.01     7.097109         68.0     3013  ...   68.0               7.87   \n",
              "\n",
              "   diphtheria  hiv_aids         gdp  population  thinness_1to19  \\\n",
              "0        65.0       0.1  584.259210  33736494.0            17.2   \n",
              "1        62.0       0.1  612.696514    327582.0            17.5   \n",
              "2        64.0       0.1  631.744976  31731688.0            17.7   \n",
              "3        67.0       0.1  669.959000   3696958.0            17.9   \n",
              "4        68.0       0.1   63.537231   2978599.0            18.2   \n",
              "\n",
              "   thinness_5to9  income_composition  schooling  \n",
              "0           17.3               0.479       10.1  \n",
              "1           17.5               0.476       10.0  \n",
              "2           17.7               0.470        9.9  \n",
              "3           18.0               0.463        9.8  \n",
              "4           18.2               0.454        9.5  \n",
              "\n",
              "[5 rows x 22 columns]"
            ],
            "text/html": [
              "\n",
              "  <div id=\"df-b56f152f-bad5-4d54-8d5d-54fe2a0940a4\">\n",
              "    <div class=\"colab-df-container\">\n",
              "      <div>\n",
              "<style scoped>\n",
              "    .dataframe tbody tr th:only-of-type {\n",
              "        vertical-align: middle;\n",
              "    }\n",
              "\n",
              "    .dataframe tbody tr th {\n",
              "        vertical-align: top;\n",
              "    }\n",
              "\n",
              "    .dataframe thead th {\n",
              "        text-align: right;\n",
              "    }\n",
              "</style>\n",
              "<table border=\"1\" class=\"dataframe\">\n",
              "  <thead>\n",
              "    <tr style=\"text-align: right;\">\n",
              "      <th></th>\n",
              "      <th>country</th>\n",
              "      <th>year</th>\n",
              "      <th>status</th>\n",
              "      <th>expectancy</th>\n",
              "      <th>adult_mortality</th>\n",
              "      <th>infant_death</th>\n",
              "      <th>alcohol</th>\n",
              "      <th>expenditure</th>\n",
              "      <th>hepatitis_b</th>\n",
              "      <th>measles</th>\n",
              "      <th>...</th>\n",
              "      <th>polio</th>\n",
              "      <th>total_expenditure</th>\n",
              "      <th>diphtheria</th>\n",
              "      <th>hiv_aids</th>\n",
              "      <th>gdp</th>\n",
              "      <th>population</th>\n",
              "      <th>thinness_1to19</th>\n",
              "      <th>thinness_5to9</th>\n",
              "      <th>income_composition</th>\n",
              "      <th>schooling</th>\n",
              "    </tr>\n",
              "  </thead>\n",
              "  <tbody>\n",
              "    <tr>\n",
              "      <th>0</th>\n",
              "      <td>Afghanistan</td>\n",
              "      <td>2015</td>\n",
              "      <td>Developing</td>\n",
              "      <td>65.0</td>\n",
              "      <td>263.0</td>\n",
              "      <td>62</td>\n",
              "      <td>0.01</td>\n",
              "      <td>71.279624</td>\n",
              "      <td>65.0</td>\n",
              "      <td>1154</td>\n",
              "      <td>...</td>\n",
              "      <td>6.0</td>\n",
              "      <td>8.16</td>\n",
              "      <td>65.0</td>\n",
              "      <td>0.1</td>\n",
              "      <td>584.259210</td>\n",
              "      <td>33736494.0</td>\n",
              "      <td>17.2</td>\n",
              "      <td>17.3</td>\n",
              "      <td>0.479</td>\n",
              "      <td>10.1</td>\n",
              "    </tr>\n",
              "    <tr>\n",
              "      <th>1</th>\n",
              "      <td>Afghanistan</td>\n",
              "      <td>2014</td>\n",
              "      <td>Developing</td>\n",
              "      <td>59.9</td>\n",
              "      <td>271.0</td>\n",
              "      <td>64</td>\n",
              "      <td>0.01</td>\n",
              "      <td>73.523582</td>\n",
              "      <td>62.0</td>\n",
              "      <td>492</td>\n",
              "      <td>...</td>\n",
              "      <td>58.0</td>\n",
              "      <td>8.18</td>\n",
              "      <td>62.0</td>\n",
              "      <td>0.1</td>\n",
              "      <td>612.696514</td>\n",
              "      <td>327582.0</td>\n",
              "      <td>17.5</td>\n",
              "      <td>17.5</td>\n",
              "      <td>0.476</td>\n",
              "      <td>10.0</td>\n",
              "    </tr>\n",
              "    <tr>\n",
              "      <th>2</th>\n",
              "      <td>Afghanistan</td>\n",
              "      <td>2013</td>\n",
              "      <td>Developing</td>\n",
              "      <td>59.9</td>\n",
              "      <td>268.0</td>\n",
              "      <td>66</td>\n",
              "      <td>0.01</td>\n",
              "      <td>73.219243</td>\n",
              "      <td>64.0</td>\n",
              "      <td>430</td>\n",
              "      <td>...</td>\n",
              "      <td>62.0</td>\n",
              "      <td>8.13</td>\n",
              "      <td>64.0</td>\n",
              "      <td>0.1</td>\n",
              "      <td>631.744976</td>\n",
              "      <td>31731688.0</td>\n",
              "      <td>17.7</td>\n",
              "      <td>17.7</td>\n",
              "      <td>0.470</td>\n",
              "      <td>9.9</td>\n",
              "    </tr>\n",
              "    <tr>\n",
              "      <th>3</th>\n",
              "      <td>Afghanistan</td>\n",
              "      <td>2012</td>\n",
              "      <td>Developing</td>\n",
              "      <td>59.5</td>\n",
              "      <td>272.0</td>\n",
              "      <td>69</td>\n",
              "      <td>0.01</td>\n",
              "      <td>78.184215</td>\n",
              "      <td>67.0</td>\n",
              "      <td>2787</td>\n",
              "      <td>...</td>\n",
              "      <td>67.0</td>\n",
              "      <td>8.52</td>\n",
              "      <td>67.0</td>\n",
              "      <td>0.1</td>\n",
              "      <td>669.959000</td>\n",
              "      <td>3696958.0</td>\n",
              "      <td>17.9</td>\n",
              "      <td>18.0</td>\n",
              "      <td>0.463</td>\n",
              "      <td>9.8</td>\n",
              "    </tr>\n",
              "    <tr>\n",
              "      <th>4</th>\n",
              "      <td>Afghanistan</td>\n",
              "      <td>2011</td>\n",
              "      <td>Developing</td>\n",
              "      <td>59.2</td>\n",
              "      <td>275.0</td>\n",
              "      <td>71</td>\n",
              "      <td>0.01</td>\n",
              "      <td>7.097109</td>\n",
              "      <td>68.0</td>\n",
              "      <td>3013</td>\n",
              "      <td>...</td>\n",
              "      <td>68.0</td>\n",
              "      <td>7.87</td>\n",
              "      <td>68.0</td>\n",
              "      <td>0.1</td>\n",
              "      <td>63.537231</td>\n",
              "      <td>2978599.0</td>\n",
              "      <td>18.2</td>\n",
              "      <td>18.2</td>\n",
              "      <td>0.454</td>\n",
              "      <td>9.5</td>\n",
              "    </tr>\n",
              "  </tbody>\n",
              "</table>\n",
              "<p>5 rows × 22 columns</p>\n",
              "</div>\n",
              "      <button class=\"colab-df-convert\" onclick=\"convertToInteractive('df-b56f152f-bad5-4d54-8d5d-54fe2a0940a4')\"\n",
              "              title=\"Convert this dataframe to an interactive table.\"\n",
              "              style=\"display:none;\">\n",
              "        \n",
              "  <svg xmlns=\"http://www.w3.org/2000/svg\" height=\"24px\"viewBox=\"0 0 24 24\"\n",
              "       width=\"24px\">\n",
              "    <path d=\"M0 0h24v24H0V0z\" fill=\"none\"/>\n",
              "    <path d=\"M18.56 5.44l.94 2.06.94-2.06 2.06-.94-2.06-.94-.94-2.06-.94 2.06-2.06.94zm-11 1L8.5 8.5l.94-2.06 2.06-.94-2.06-.94L8.5 2.5l-.94 2.06-2.06.94zm10 10l.94 2.06.94-2.06 2.06-.94-2.06-.94-.94-2.06-.94 2.06-2.06.94z\"/><path d=\"M17.41 7.96l-1.37-1.37c-.4-.4-.92-.59-1.43-.59-.52 0-1.04.2-1.43.59L10.3 9.45l-7.72 7.72c-.78.78-.78 2.05 0 2.83L4 21.41c.39.39.9.59 1.41.59.51 0 1.02-.2 1.41-.59l7.78-7.78 2.81-2.81c.8-.78.8-2.07 0-2.86zM5.41 20L4 18.59l7.72-7.72 1.47 1.35L5.41 20z\"/>\n",
              "  </svg>\n",
              "      </button>\n",
              "      \n",
              "  <style>\n",
              "    .colab-df-container {\n",
              "      display:flex;\n",
              "      flex-wrap:wrap;\n",
              "      gap: 12px;\n",
              "    }\n",
              "\n",
              "    .colab-df-convert {\n",
              "      background-color: #E8F0FE;\n",
              "      border: none;\n",
              "      border-radius: 50%;\n",
              "      cursor: pointer;\n",
              "      display: none;\n",
              "      fill: #1967D2;\n",
              "      height: 32px;\n",
              "      padding: 0 0 0 0;\n",
              "      width: 32px;\n",
              "    }\n",
              "\n",
              "    .colab-df-convert:hover {\n",
              "      background-color: #E2EBFA;\n",
              "      box-shadow: 0px 1px 2px rgba(60, 64, 67, 0.3), 0px 1px 3px 1px rgba(60, 64, 67, 0.15);\n",
              "      fill: #174EA6;\n",
              "    }\n",
              "\n",
              "    [theme=dark] .colab-df-convert {\n",
              "      background-color: #3B4455;\n",
              "      fill: #D2E3FC;\n",
              "    }\n",
              "\n",
              "    [theme=dark] .colab-df-convert:hover {\n",
              "      background-color: #434B5C;\n",
              "      box-shadow: 0px 1px 3px 1px rgba(0, 0, 0, 0.15);\n",
              "      filter: drop-shadow(0px 1px 2px rgba(0, 0, 0, 0.3));\n",
              "      fill: #FFFFFF;\n",
              "    }\n",
              "  </style>\n",
              "\n",
              "      <script>\n",
              "        const buttonEl =\n",
              "          document.querySelector('#df-b56f152f-bad5-4d54-8d5d-54fe2a0940a4 button.colab-df-convert');\n",
              "        buttonEl.style.display =\n",
              "          google.colab.kernel.accessAllowed ? 'block' : 'none';\n",
              "\n",
              "        async function convertToInteractive(key) {\n",
              "          const element = document.querySelector('#df-b56f152f-bad5-4d54-8d5d-54fe2a0940a4');\n",
              "          const dataTable =\n",
              "            await google.colab.kernel.invokeFunction('convertToInteractive',\n",
              "                                                     [key], {});\n",
              "          if (!dataTable) return;\n",
              "\n",
              "          const docLinkHtml = 'Like what you see? Visit the ' +\n",
              "            '<a target=\"_blank\" href=https://colab.research.google.com/notebooks/data_table.ipynb>data table notebook</a>'\n",
              "            + ' to learn more about interactive tables.';\n",
              "          element.innerHTML = '';\n",
              "          dataTable['output_type'] = 'display_data';\n",
              "          await google.colab.output.renderOutput(dataTable, element);\n",
              "          const docLink = document.createElement('div');\n",
              "          docLink.innerHTML = docLinkHtml;\n",
              "          element.appendChild(docLink);\n",
              "        }\n",
              "      </script>\n",
              "    </div>\n",
              "  </div>\n",
              "  "
            ]
          },
          "metadata": {},
          "execution_count": 73
        }
      ],
      "source": [
        "data.head()"
      ]
    },
    {
      "cell_type": "code",
      "execution_count": 74,
      "metadata": {
        "id": "FxGUsy65e4de"
      },
      "outputs": [],
      "source": [
        "#we will deal with all these missing values and since Life expectancy is our dependant variable we will remove the missing values row altogether from the data\n",
        "data = data[data['expectancy'].notna()]"
      ]
    },
    {
      "cell_type": "code",
      "execution_count": 75,
      "metadata": {
        "id": "6XO8Z1pNe4df",
        "outputId": "0ddb5b8a-6c42-4a42-96a1-ff5febd3cd01",
        "colab": {
          "base_uri": "https://localhost:8080/"
        }
      },
      "outputs": [
        {
          "output_type": "execute_result",
          "data": {
            "text/plain": [
              "(2928, 22)"
            ]
          },
          "metadata": {},
          "execution_count": 75
        }
      ],
      "source": [
        "data.shape"
      ]
    },
    {
      "cell_type": "code",
      "execution_count": 76,
      "metadata": {
        "id": "wEwdrNrme4df",
        "outputId": "b2b78d35-7ec6-445b-eda0-3f96bb5409d1",
        "colab": {
          "base_uri": "https://localhost:8080/"
        }
      },
      "outputs": [
        {
          "output_type": "execute_result",
          "data": {
            "text/plain": [
              "country                 0\n",
              "year                    0\n",
              "status                  0\n",
              "expectancy              0\n",
              "adult_mortality         0\n",
              "infant_death            0\n",
              "alcohol               193\n",
              "expenditure             0\n",
              "hepatitis_b           553\n",
              "measles                 0\n",
              "bmi                    32\n",
              "under_five_deaths       0\n",
              "polio                  19\n",
              "total_expenditure     226\n",
              "diphtheria             19\n",
              "hiv_aids                0\n",
              "gdp                   443\n",
              "population            644\n",
              "thinness_1to19         32\n",
              "thinness_5to9          32\n",
              "income_composition    160\n",
              "schooling             160\n",
              "dtype: int64"
            ]
          },
          "metadata": {},
          "execution_count": 76
        }
      ],
      "source": [
        "#checking for null values\n",
        "data.isna().sum()"
      ]
    },
    {
      "cell_type": "code",
      "execution_count": 77,
      "metadata": {
        "id": "5VPCLDDoe4df",
        "outputId": "2a7aa0fe-51dc-4e56-ae13-5c1d5ba54f62",
        "colab": {
          "base_uri": "https://localhost:8080/"
        }
      },
      "outputs": [
        {
          "output_type": "stream",
          "name": "stderr",
          "text": [
            "/usr/local/lib/python3.7/dist-packages/ipykernel_launcher.py:2: FutureWarning: Dropping of nuisance columns in DataFrame reductions (with 'numeric_only=None') is deprecated; in a future version this will raise TypeError.  Select only valid columns before calling the reduction.\n",
            "  \n"
          ]
        }
      ],
      "source": [
        "#replacing the null values with the median\n",
        "data = data.fillna(data.median())"
      ]
    },
    {
      "cell_type": "code",
      "execution_count": 78,
      "metadata": {
        "id": "t3u4S3yNe4df",
        "outputId": "61b2ad9f-520d-47a9-a56a-923ee17f9adb",
        "colab": {
          "base_uri": "https://localhost:8080/"
        }
      },
      "outputs": [
        {
          "output_type": "execute_result",
          "data": {
            "text/plain": [
              "country               0\n",
              "year                  0\n",
              "status                0\n",
              "expectancy            0\n",
              "adult_mortality       0\n",
              "infant_death          0\n",
              "alcohol               0\n",
              "expenditure           0\n",
              "hepatitis_b           0\n",
              "measles               0\n",
              "bmi                   0\n",
              "under_five_deaths     0\n",
              "polio                 0\n",
              "total_expenditure     0\n",
              "diphtheria            0\n",
              "hiv_aids              0\n",
              "gdp                   0\n",
              "population            0\n",
              "thinness_1to19        0\n",
              "thinness_5to9         0\n",
              "income_composition    0\n",
              "schooling             0\n",
              "dtype: int64"
            ]
          },
          "metadata": {},
          "execution_count": 78
        }
      ],
      "source": [
        "#rechecking for the null values\n",
        "data.isna().sum()"
      ]
    },
    {
      "cell_type": "code",
      "execution_count": 79,
      "metadata": {
        "id": "ik4WRcEKe4dg",
        "outputId": "f385196a-f32b-4fba-ccd1-f13e7b13593f",
        "colab": {
          "base_uri": "https://localhost:8080/"
        }
      },
      "outputs": [
        {
          "output_type": "execute_result",
          "data": {
            "text/plain": [
              "0"
            ]
          },
          "metadata": {},
          "execution_count": 79
        }
      ],
      "source": [
        "#now that we have dealt with the missing values we will check for any duplicates\n",
        "data.duplicated().sum()"
      ]
    },
    {
      "cell_type": "code",
      "execution_count": 80,
      "metadata": {
        "id": "4BWo9hFSe4dg"
      },
      "outputs": [],
      "source": [
        "#replacing the categorical feature with 0 and 1\n",
        "cleanup = {\"status\":{\"Developing\": 0, \"Developed\": 1}}"
      ]
    },
    {
      "cell_type": "code",
      "execution_count": 81,
      "metadata": {
        "id": "yTaBn63ue4dg",
        "outputId": "271af3e7-94df-4674-a52e-38aa88d63376",
        "colab": {
          "base_uri": "https://localhost:8080/",
          "height": 299
        }
      },
      "outputs": [
        {
          "output_type": "execute_result",
          "data": {
            "text/plain": [
              "       country  year  status  expectancy  adult_mortality  infant_death  \\\n",
              "0  Afghanistan  2015       0        65.0            263.0            62   \n",
              "1  Afghanistan  2014       0        59.9            271.0            64   \n",
              "2  Afghanistan  2013       0        59.9            268.0            66   \n",
              "3  Afghanistan  2012       0        59.5            272.0            69   \n",
              "4  Afghanistan  2011       0        59.2            275.0            71   \n",
              "\n",
              "   alcohol  expenditure  hepatitis_b  measles  ...  polio  total_expenditure  \\\n",
              "0     0.01    71.279624         65.0     1154  ...    6.0               8.16   \n",
              "1     0.01    73.523582         62.0      492  ...   58.0               8.18   \n",
              "2     0.01    73.219243         64.0      430  ...   62.0               8.13   \n",
              "3     0.01    78.184215         67.0     2787  ...   67.0               8.52   \n",
              "4     0.01     7.097109         68.0     3013  ...   68.0               7.87   \n",
              "\n",
              "   diphtheria  hiv_aids         gdp  population  thinness_1to19  \\\n",
              "0        65.0       0.1  584.259210  33736494.0            17.2   \n",
              "1        62.0       0.1  612.696514    327582.0            17.5   \n",
              "2        64.0       0.1  631.744976  31731688.0            17.7   \n",
              "3        67.0       0.1  669.959000   3696958.0            17.9   \n",
              "4        68.0       0.1   63.537231   2978599.0            18.2   \n",
              "\n",
              "   thinness_5to9  income_composition  schooling  \n",
              "0           17.3               0.479       10.1  \n",
              "1           17.5               0.476       10.0  \n",
              "2           17.7               0.470        9.9  \n",
              "3           18.0               0.463        9.8  \n",
              "4           18.2               0.454        9.5  \n",
              "\n",
              "[5 rows x 22 columns]"
            ],
            "text/html": [
              "\n",
              "  <div id=\"df-50e57802-9108-4265-a4c4-4d90e862f010\">\n",
              "    <div class=\"colab-df-container\">\n",
              "      <div>\n",
              "<style scoped>\n",
              "    .dataframe tbody tr th:only-of-type {\n",
              "        vertical-align: middle;\n",
              "    }\n",
              "\n",
              "    .dataframe tbody tr th {\n",
              "        vertical-align: top;\n",
              "    }\n",
              "\n",
              "    .dataframe thead th {\n",
              "        text-align: right;\n",
              "    }\n",
              "</style>\n",
              "<table border=\"1\" class=\"dataframe\">\n",
              "  <thead>\n",
              "    <tr style=\"text-align: right;\">\n",
              "      <th></th>\n",
              "      <th>country</th>\n",
              "      <th>year</th>\n",
              "      <th>status</th>\n",
              "      <th>expectancy</th>\n",
              "      <th>adult_mortality</th>\n",
              "      <th>infant_death</th>\n",
              "      <th>alcohol</th>\n",
              "      <th>expenditure</th>\n",
              "      <th>hepatitis_b</th>\n",
              "      <th>measles</th>\n",
              "      <th>...</th>\n",
              "      <th>polio</th>\n",
              "      <th>total_expenditure</th>\n",
              "      <th>diphtheria</th>\n",
              "      <th>hiv_aids</th>\n",
              "      <th>gdp</th>\n",
              "      <th>population</th>\n",
              "      <th>thinness_1to19</th>\n",
              "      <th>thinness_5to9</th>\n",
              "      <th>income_composition</th>\n",
              "      <th>schooling</th>\n",
              "    </tr>\n",
              "  </thead>\n",
              "  <tbody>\n",
              "    <tr>\n",
              "      <th>0</th>\n",
              "      <td>Afghanistan</td>\n",
              "      <td>2015</td>\n",
              "      <td>0</td>\n",
              "      <td>65.0</td>\n",
              "      <td>263.0</td>\n",
              "      <td>62</td>\n",
              "      <td>0.01</td>\n",
              "      <td>71.279624</td>\n",
              "      <td>65.0</td>\n",
              "      <td>1154</td>\n",
              "      <td>...</td>\n",
              "      <td>6.0</td>\n",
              "      <td>8.16</td>\n",
              "      <td>65.0</td>\n",
              "      <td>0.1</td>\n",
              "      <td>584.259210</td>\n",
              "      <td>33736494.0</td>\n",
              "      <td>17.2</td>\n",
              "      <td>17.3</td>\n",
              "      <td>0.479</td>\n",
              "      <td>10.1</td>\n",
              "    </tr>\n",
              "    <tr>\n",
              "      <th>1</th>\n",
              "      <td>Afghanistan</td>\n",
              "      <td>2014</td>\n",
              "      <td>0</td>\n",
              "      <td>59.9</td>\n",
              "      <td>271.0</td>\n",
              "      <td>64</td>\n",
              "      <td>0.01</td>\n",
              "      <td>73.523582</td>\n",
              "      <td>62.0</td>\n",
              "      <td>492</td>\n",
              "      <td>...</td>\n",
              "      <td>58.0</td>\n",
              "      <td>8.18</td>\n",
              "      <td>62.0</td>\n",
              "      <td>0.1</td>\n",
              "      <td>612.696514</td>\n",
              "      <td>327582.0</td>\n",
              "      <td>17.5</td>\n",
              "      <td>17.5</td>\n",
              "      <td>0.476</td>\n",
              "      <td>10.0</td>\n",
              "    </tr>\n",
              "    <tr>\n",
              "      <th>2</th>\n",
              "      <td>Afghanistan</td>\n",
              "      <td>2013</td>\n",
              "      <td>0</td>\n",
              "      <td>59.9</td>\n",
              "      <td>268.0</td>\n",
              "      <td>66</td>\n",
              "      <td>0.01</td>\n",
              "      <td>73.219243</td>\n",
              "      <td>64.0</td>\n",
              "      <td>430</td>\n",
              "      <td>...</td>\n",
              "      <td>62.0</td>\n",
              "      <td>8.13</td>\n",
              "      <td>64.0</td>\n",
              "      <td>0.1</td>\n",
              "      <td>631.744976</td>\n",
              "      <td>31731688.0</td>\n",
              "      <td>17.7</td>\n",
              "      <td>17.7</td>\n",
              "      <td>0.470</td>\n",
              "      <td>9.9</td>\n",
              "    </tr>\n",
              "    <tr>\n",
              "      <th>3</th>\n",
              "      <td>Afghanistan</td>\n",
              "      <td>2012</td>\n",
              "      <td>0</td>\n",
              "      <td>59.5</td>\n",
              "      <td>272.0</td>\n",
              "      <td>69</td>\n",
              "      <td>0.01</td>\n",
              "      <td>78.184215</td>\n",
              "      <td>67.0</td>\n",
              "      <td>2787</td>\n",
              "      <td>...</td>\n",
              "      <td>67.0</td>\n",
              "      <td>8.52</td>\n",
              "      <td>67.0</td>\n",
              "      <td>0.1</td>\n",
              "      <td>669.959000</td>\n",
              "      <td>3696958.0</td>\n",
              "      <td>17.9</td>\n",
              "      <td>18.0</td>\n",
              "      <td>0.463</td>\n",
              "      <td>9.8</td>\n",
              "    </tr>\n",
              "    <tr>\n",
              "      <th>4</th>\n",
              "      <td>Afghanistan</td>\n",
              "      <td>2011</td>\n",
              "      <td>0</td>\n",
              "      <td>59.2</td>\n",
              "      <td>275.0</td>\n",
              "      <td>71</td>\n",
              "      <td>0.01</td>\n",
              "      <td>7.097109</td>\n",
              "      <td>68.0</td>\n",
              "      <td>3013</td>\n",
              "      <td>...</td>\n",
              "      <td>68.0</td>\n",
              "      <td>7.87</td>\n",
              "      <td>68.0</td>\n",
              "      <td>0.1</td>\n",
              "      <td>63.537231</td>\n",
              "      <td>2978599.0</td>\n",
              "      <td>18.2</td>\n",
              "      <td>18.2</td>\n",
              "      <td>0.454</td>\n",
              "      <td>9.5</td>\n",
              "    </tr>\n",
              "  </tbody>\n",
              "</table>\n",
              "<p>5 rows × 22 columns</p>\n",
              "</div>\n",
              "      <button class=\"colab-df-convert\" onclick=\"convertToInteractive('df-50e57802-9108-4265-a4c4-4d90e862f010')\"\n",
              "              title=\"Convert this dataframe to an interactive table.\"\n",
              "              style=\"display:none;\">\n",
              "        \n",
              "  <svg xmlns=\"http://www.w3.org/2000/svg\" height=\"24px\"viewBox=\"0 0 24 24\"\n",
              "       width=\"24px\">\n",
              "    <path d=\"M0 0h24v24H0V0z\" fill=\"none\"/>\n",
              "    <path d=\"M18.56 5.44l.94 2.06.94-2.06 2.06-.94-2.06-.94-.94-2.06-.94 2.06-2.06.94zm-11 1L8.5 8.5l.94-2.06 2.06-.94-2.06-.94L8.5 2.5l-.94 2.06-2.06.94zm10 10l.94 2.06.94-2.06 2.06-.94-2.06-.94-.94-2.06-.94 2.06-2.06.94z\"/><path d=\"M17.41 7.96l-1.37-1.37c-.4-.4-.92-.59-1.43-.59-.52 0-1.04.2-1.43.59L10.3 9.45l-7.72 7.72c-.78.78-.78 2.05 0 2.83L4 21.41c.39.39.9.59 1.41.59.51 0 1.02-.2 1.41-.59l7.78-7.78 2.81-2.81c.8-.78.8-2.07 0-2.86zM5.41 20L4 18.59l7.72-7.72 1.47 1.35L5.41 20z\"/>\n",
              "  </svg>\n",
              "      </button>\n",
              "      \n",
              "  <style>\n",
              "    .colab-df-container {\n",
              "      display:flex;\n",
              "      flex-wrap:wrap;\n",
              "      gap: 12px;\n",
              "    }\n",
              "\n",
              "    .colab-df-convert {\n",
              "      background-color: #E8F0FE;\n",
              "      border: none;\n",
              "      border-radius: 50%;\n",
              "      cursor: pointer;\n",
              "      display: none;\n",
              "      fill: #1967D2;\n",
              "      height: 32px;\n",
              "      padding: 0 0 0 0;\n",
              "      width: 32px;\n",
              "    }\n",
              "\n",
              "    .colab-df-convert:hover {\n",
              "      background-color: #E2EBFA;\n",
              "      box-shadow: 0px 1px 2px rgba(60, 64, 67, 0.3), 0px 1px 3px 1px rgba(60, 64, 67, 0.15);\n",
              "      fill: #174EA6;\n",
              "    }\n",
              "\n",
              "    [theme=dark] .colab-df-convert {\n",
              "      background-color: #3B4455;\n",
              "      fill: #D2E3FC;\n",
              "    }\n",
              "\n",
              "    [theme=dark] .colab-df-convert:hover {\n",
              "      background-color: #434B5C;\n",
              "      box-shadow: 0px 1px 3px 1px rgba(0, 0, 0, 0.15);\n",
              "      filter: drop-shadow(0px 1px 2px rgba(0, 0, 0, 0.3));\n",
              "      fill: #FFFFFF;\n",
              "    }\n",
              "  </style>\n",
              "\n",
              "      <script>\n",
              "        const buttonEl =\n",
              "          document.querySelector('#df-50e57802-9108-4265-a4c4-4d90e862f010 button.colab-df-convert');\n",
              "        buttonEl.style.display =\n",
              "          google.colab.kernel.accessAllowed ? 'block' : 'none';\n",
              "\n",
              "        async function convertToInteractive(key) {\n",
              "          const element = document.querySelector('#df-50e57802-9108-4265-a4c4-4d90e862f010');\n",
              "          const dataTable =\n",
              "            await google.colab.kernel.invokeFunction('convertToInteractive',\n",
              "                                                     [key], {});\n",
              "          if (!dataTable) return;\n",
              "\n",
              "          const docLinkHtml = 'Like what you see? Visit the ' +\n",
              "            '<a target=\"_blank\" href=https://colab.research.google.com/notebooks/data_table.ipynb>data table notebook</a>'\n",
              "            + ' to learn more about interactive tables.';\n",
              "          element.innerHTML = '';\n",
              "          dataTable['output_type'] = 'display_data';\n",
              "          await google.colab.output.renderOutput(dataTable, element);\n",
              "          const docLink = document.createElement('div');\n",
              "          docLink.innerHTML = docLinkHtml;\n",
              "          element.appendChild(docLink);\n",
              "        }\n",
              "      </script>\n",
              "    </div>\n",
              "  </div>\n",
              "  "
            ]
          },
          "metadata": {},
          "execution_count": 81
        }
      ],
      "source": [
        "data = data.replace(cleanup)\n",
        "data.head()"
      ]
    },
    {
      "cell_type": "code",
      "execution_count": 82,
      "metadata": {
        "id": "ezVJIjVSe4dg",
        "outputId": "25d7bb86-2a46-47a5-bb78-7b6b9253339a",
        "colab": {
          "base_uri": "https://localhost:8080/"
        }
      },
      "outputs": [
        {
          "output_type": "execute_result",
          "data": {
            "text/plain": [
              "array([  0.,   1.,   2.,   3.,   4.,   5.,   6.,   7.,   8.,   9.,  10.,\n",
              "        11.,  12.,  13.,  14.,  15.,  16.,  17.,  18.,  19.,  20.,  21.,\n",
              "        22.,  23.,  24.,  25.,  26.,  43.,  27.,  28.,  29.,  30.,  31.,\n",
              "        32.,  33.,  34.,  35.,  36.,  37.,  38.,  39.,  40.,  41.,  42.,\n",
              "        44.,  45.,  46.,  47.,  48.,  49.,  50.,  51.,  52.,  53.,  54.,\n",
              "        55.,  56.,  57.,  58.,  59.,  60.,  61.,  62.,  63.,  64.,  65.,\n",
              "        66.,  67.,  68.,  69.,  70.,  71.,  72.,  73.,  74.,  75.,  76.,\n",
              "        77.,  78.,  79.,  80.,  81.,  82.,  83.,  84.,  85.,  86.,  87.,\n",
              "        88.,  89.,  90.,  91.,  92.,  93.,  94.,  95.,  96.,  97.,  98.,\n",
              "        99., 100., 101., 102., 103., 104., 105., 106., 107., 108., 109.,\n",
              "       110., 111., 112., 113., 114., 115., 116., 117., 118., 119., 120.,\n",
              "       121., 122., 123., 124., 125., 126., 127., 128., 129., 130., 131.,\n",
              "       132., 133., 134., 135., 136., 137., 138., 139., 140., 141., 142.,\n",
              "       143., 144., 145., 146., 147., 148., 149., 150., 151., 152., 153.,\n",
              "       154., 155., 156., 157., 158., 159., 160., 161., 162., 163., 164.,\n",
              "       165., 166., 167., 168., 169., 170., 171., 172., 173., 174., 175.,\n",
              "       176., 177., 178., 179., 180., 181., 182.])"
            ]
          },
          "metadata": {},
          "execution_count": 82
        }
      ],
      "source": [
        "#replacing the categorical variable with number codes\n",
        "ord_enc = OrdinalEncoder()\n",
        "data[\"country_code\"] = ord_enc.fit_transform(data[[\"country\"]])\n",
        "data[\"country_code\"].unique()"
      ]
    },
    {
      "cell_type": "code",
      "execution_count": 83,
      "metadata": {
        "id": "sNdiZtT8e4dh",
        "outputId": "a911ff82-6499-444c-e731-0006d012a647",
        "colab": {
          "base_uri": "https://localhost:8080/"
        }
      },
      "outputs": [
        {
          "output_type": "stream",
          "name": "stdout",
          "text": [
            "<class 'pandas.core.frame.DataFrame'>\n",
            "Int64Index: 2928 entries, 0 to 2937\n",
            "Data columns (total 23 columns):\n",
            " #   Column              Non-Null Count  Dtype  \n",
            "---  ------              --------------  -----  \n",
            " 0   country             2928 non-null   object \n",
            " 1   year                2928 non-null   int64  \n",
            " 2   status              2928 non-null   int64  \n",
            " 3   expectancy          2928 non-null   float64\n",
            " 4   adult_mortality     2928 non-null   float64\n",
            " 5   infant_death        2928 non-null   int64  \n",
            " 6   alcohol             2928 non-null   float64\n",
            " 7   expenditure         2928 non-null   float64\n",
            " 8   hepatitis_b         2928 non-null   float64\n",
            " 9   measles             2928 non-null   int64  \n",
            " 10  bmi                 2928 non-null   float64\n",
            " 11  under_five_deaths   2928 non-null   int64  \n",
            " 12  polio               2928 non-null   float64\n",
            " 13  total_expenditure   2928 non-null   float64\n",
            " 14  diphtheria          2928 non-null   float64\n",
            " 15  hiv_aids            2928 non-null   float64\n",
            " 16  gdp                 2928 non-null   float64\n",
            " 17  population          2928 non-null   float64\n",
            " 18  thinness_1to19      2928 non-null   float64\n",
            " 19  thinness_5to9       2928 non-null   float64\n",
            " 20  income_composition  2928 non-null   float64\n",
            " 21  schooling           2928 non-null   float64\n",
            " 22  country_code        2928 non-null   float64\n",
            "dtypes: float64(17), int64(5), object(1)\n",
            "memory usage: 549.0+ KB\n"
          ]
        }
      ],
      "source": [
        "data.info()"
      ]
    },
    {
      "cell_type": "code",
      "execution_count": 84,
      "metadata": {
        "id": "Yzvd7O5Ke4dh",
        "outputId": "a29b23c6-8588-4dd1-e6ef-bbb86403cc21",
        "colab": {
          "base_uri": "https://localhost:8080/",
          "height": 989
        }
      },
      "outputs": [
        {
          "output_type": "execute_result",
          "data": {
            "text/plain": [
              "                            year        status  expectancy  adult_mortality  \\\n",
              "year                1.000000e+00  5.545187e-15    0.170033        -0.079052   \n",
              "status              5.545187e-15  1.000000e+00    0.482136        -0.315284   \n",
              "expectancy          1.700330e-01  4.821361e-01    1.000000        -0.696359   \n",
              "adult_mortality    -7.905159e-02 -3.152844e-01   -0.696359         1.000000   \n",
              "infant_death       -3.646405e-02 -1.127082e-01   -0.196557         0.078756   \n",
              "alcohol            -6.564353e-02  5.797231e-01    0.390674        -0.191066   \n",
              "expenditure         3.272257e-02  4.540322e-01    0.381864        -0.242860   \n",
              "hepatitis_b         2.267079e-02  1.271006e-01    0.171255        -0.123971   \n",
              "measles            -8.184033e-02 -7.731993e-02   -0.157586         0.031176   \n",
              "bmi                 1.040567e-01  3.133139e-01    0.558888        -0.380592   \n",
              "under_five_deaths  -4.197985e-02 -1.156615e-01   -0.222529         0.094146   \n",
              "polio               9.172655e-02  2.192209e-01    0.459458        -0.270597   \n",
              "total_expenditure   7.139454e-02  2.942904e-01    0.209588        -0.112176   \n",
              "diphtheria          1.318516e-01  2.158679e-01    0.473268        -0.270877   \n",
              "hiv_aids           -1.387885e-01 -1.491780e-01   -0.556556         0.523821   \n",
              "gdp                 9.316964e-02  4.456821e-01    0.430991        -0.281715   \n",
              "population          1.474886e-02 -3.788784e-02   -0.028842        -0.005392   \n",
              "thinness_1to19     -4.480530e-02 -3.676434e-01   -0.467859         0.296076   \n",
              "thinness_5to9      -4.786016e-02 -3.661381e-01   -0.462645         0.301855   \n",
              "income_composition  2.358661e-01  4.614780e-01    0.688591        -0.436268   \n",
              "schooling           2.073109e-01  4.947532e-01    0.717314        -0.435926   \n",
              "country_code        3.339774e-14  3.267863e-02   -0.017901         0.040262   \n",
              "\n",
              "                    infant_death   alcohol  expenditure  hepatitis_b  \\\n",
              "year                   -0.036464 -0.065644     0.032723     0.022671   \n",
              "status                 -0.112708  0.579723     0.454032     0.127101   \n",
              "expectancy             -0.196557  0.390674     0.381864     0.171255   \n",
              "adult_mortality         0.078756 -0.191066    -0.242860    -0.123971   \n",
              "infant_death            1.000000 -0.113919    -0.085906    -0.168393   \n",
              "alcohol                -0.113919  1.000000     0.344228     0.089540   \n",
              "expenditure            -0.085906  0.344228     1.000000     0.039805   \n",
              "hepatitis_b            -0.168393  0.089540     0.039805     1.000000   \n",
              "measles                 0.501038 -0.050490    -0.056831    -0.073544   \n",
              "bmi                    -0.226969  0.321196     0.229920     0.116743   \n",
              "under_five_deaths       0.996628 -0.110801    -0.088152    -0.171539   \n",
              "polio                  -0.171273  0.212082     0.146546     0.362537   \n",
              "total_expenditure      -0.126471  0.302242     0.177355     0.066908   \n",
              "diphtheria             -0.175747  0.212766     0.142897     0.447373   \n",
              "hiv_aids                0.024955 -0.047314    -0.098230    -0.086197   \n",
              "gdp                    -0.103175  0.312735     0.901803     0.076936   \n",
              "population              0.551608 -0.027387    -0.017070    -0.125713   \n",
              "thinness_1to19          0.464762 -0.416992    -0.250729    -0.099491   \n",
              "thinness_5to9           0.470469 -0.406089    -0.252366    -0.102505   \n",
              "income_composition     -0.141329  0.420009     0.375234     0.118166   \n",
              "schooling              -0.192421  0.499675     0.387937     0.134263   \n",
              "country_code           -0.028942 -0.063838    -0.032263    -0.013131   \n",
              "\n",
              "                     measles       bmi  ...  total_expenditure  diphtheria  \\\n",
              "year               -0.081840  0.104057  ...           0.071395    0.131852   \n",
              "status             -0.077320  0.313314  ...           0.294290    0.215868   \n",
              "expectancy         -0.157586  0.558888  ...           0.209588    0.473268   \n",
              "adult_mortality     0.031176 -0.380592  ...          -0.112176   -0.270877   \n",
              "infant_death        0.501038 -0.226969  ...          -0.126471   -0.175747   \n",
              "alcohol            -0.050490  0.321196  ...           0.302242    0.212766   \n",
              "expenditure        -0.056831  0.229920  ...           0.177355    0.142897   \n",
              "hepatitis_b        -0.073544  0.116743  ...           0.066908    0.447373   \n",
              "measles             1.000000 -0.176132  ...          -0.104294   -0.142680   \n",
              "bmi                -0.176132  1.000000  ...           0.227095    0.283207   \n",
              "under_five_deaths   0.507718 -0.237262  ...          -0.128161   -0.196224   \n",
              "polio              -0.136966  0.284278  ...           0.137465    0.672557   \n",
              "total_expenditure  -0.104294  0.227095  ...           1.000000    0.152969   \n",
              "diphtheria         -0.142680  0.283207  ...           0.152969    1.000000   \n",
              "hiv_aids            0.030673 -0.243364  ...           0.000752   -0.164768   \n",
              "gdp                -0.069531  0.277118  ...           0.113703    0.182591   \n",
              "population          0.237096 -0.069296  ...          -0.061525   -0.033202   \n",
              "thinness_1to19      0.224606 -0.531240  ...          -0.266586   -0.227360   \n",
              "thinness_5to9       0.220869 -0.538194  ...          -0.273222   -0.220723   \n",
              "income_composition -0.110884  0.473592  ...           0.154618    0.359984   \n",
              "schooling          -0.121817  0.510756  ...           0.234150    0.377568   \n",
              "country_code       -0.023079  0.019452  ...           0.050285   -0.002681   \n",
              "\n",
              "                    hiv_aids       gdp  population  thinness_1to19  \\\n",
              "year               -0.138789  0.093170    0.014749       -0.044805   \n",
              "status             -0.149178  0.445682   -0.037888       -0.367643   \n",
              "expectancy         -0.556556  0.430991   -0.028842       -0.467859   \n",
              "adult_mortality     0.523821 -0.281715   -0.005392        0.296076   \n",
              "infant_death        0.024955 -0.103175    0.551608        0.464762   \n",
              "alcohol            -0.047314  0.312735   -0.027387       -0.416992   \n",
              "expenditure        -0.098230  0.901803   -0.017070       -0.250729   \n",
              "hepatitis_b        -0.086197  0.076936   -0.125713       -0.099491   \n",
              "measles             0.030673 -0.069531    0.237096        0.224606   \n",
              "bmi                -0.243364  0.277118   -0.069296       -0.531240   \n",
              "under_five_deaths   0.037783 -0.106446    0.539198        0.466640   \n",
              "polio              -0.159484  0.190582   -0.044919       -0.219364   \n",
              "total_expenditure   0.000752  0.113703   -0.061525       -0.266586   \n",
              "diphtheria         -0.164768  0.182591   -0.033202       -0.227360   \n",
              "hiv_aids            1.000000 -0.123029   -0.017289        0.203110   \n",
              "gdp                -0.123029  1.000000   -0.025476       -0.264647   \n",
              "population         -0.017289 -0.025476    1.000000        0.236263   \n",
              "thinness_1to19      0.203110 -0.264647    0.236263        1.000000   \n",
              "thinness_5to9       0.206356 -0.268377    0.235149        0.939027   \n",
              "income_composition -0.247559  0.436574   -0.017043       -0.401183   \n",
              "schooling          -0.220577  0.434110   -0.037336       -0.442320   \n",
              "country_code        0.092047 -0.033855   -0.019059        0.005554   \n",
              "\n",
              "                    thinness_5to9  income_composition  schooling  country_code  \n",
              "year                    -0.047860            0.235866   0.207311  3.339774e-14  \n",
              "status                  -0.366138            0.461478   0.494753  3.267863e-02  \n",
              "expectancy              -0.462645            0.688591   0.717314 -1.790104e-02  \n",
              "adult_mortality          0.301855           -0.436268  -0.435926  4.026192e-02  \n",
              "infant_death             0.470469           -0.141329  -0.192421 -2.894155e-02  \n",
              "alcohol                 -0.406089            0.420009   0.499675 -6.383849e-02  \n",
              "expenditure             -0.252366            0.375234   0.387937 -3.226254e-02  \n",
              "hepatitis_b             -0.102505            0.118166   0.134263 -1.313136e-02  \n",
              "measles                  0.220869           -0.110884  -0.121817 -2.307884e-02  \n",
              "bmi                     -0.538194            0.473592   0.510756  1.945245e-02  \n",
              "under_five_deaths        0.471190           -0.159022  -0.207801 -2.488456e-02  \n",
              "polio                   -0.220238            0.345770   0.374263  2.142080e-02  \n",
              "total_expenditure       -0.273222            0.154618   0.234150  5.028490e-02  \n",
              "diphtheria              -0.220723            0.359984   0.377568 -2.681086e-03  \n",
              "hiv_aids                 0.206356           -0.247559  -0.220577  9.204725e-02  \n",
              "gdp                     -0.268377            0.436574   0.434110 -3.385513e-02  \n",
              "population               0.235149           -0.017043  -0.037336 -1.905907e-02  \n",
              "thinness_1to19           0.939027           -0.401183  -0.442320  5.553855e-03  \n",
              "thinness_5to9            1.000000           -0.391124  -0.432674  2.016430e-02  \n",
              "income_composition      -0.391124            1.000000   0.799817 -1.996763e-02  \n",
              "schooling               -0.432674            0.799817   1.000000 -2.227758e-02  \n",
              "country_code             0.020164           -0.019968  -0.022278  1.000000e+00  \n",
              "\n",
              "[22 rows x 22 columns]"
            ],
            "text/html": [
              "\n",
              "  <div id=\"df-e8b69a4e-c971-46b0-9128-ae49eef4f930\">\n",
              "    <div class=\"colab-df-container\">\n",
              "      <div>\n",
              "<style scoped>\n",
              "    .dataframe tbody tr th:only-of-type {\n",
              "        vertical-align: middle;\n",
              "    }\n",
              "\n",
              "    .dataframe tbody tr th {\n",
              "        vertical-align: top;\n",
              "    }\n",
              "\n",
              "    .dataframe thead th {\n",
              "        text-align: right;\n",
              "    }\n",
              "</style>\n",
              "<table border=\"1\" class=\"dataframe\">\n",
              "  <thead>\n",
              "    <tr style=\"text-align: right;\">\n",
              "      <th></th>\n",
              "      <th>year</th>\n",
              "      <th>status</th>\n",
              "      <th>expectancy</th>\n",
              "      <th>adult_mortality</th>\n",
              "      <th>infant_death</th>\n",
              "      <th>alcohol</th>\n",
              "      <th>expenditure</th>\n",
              "      <th>hepatitis_b</th>\n",
              "      <th>measles</th>\n",
              "      <th>bmi</th>\n",
              "      <th>...</th>\n",
              "      <th>total_expenditure</th>\n",
              "      <th>diphtheria</th>\n",
              "      <th>hiv_aids</th>\n",
              "      <th>gdp</th>\n",
              "      <th>population</th>\n",
              "      <th>thinness_1to19</th>\n",
              "      <th>thinness_5to9</th>\n",
              "      <th>income_composition</th>\n",
              "      <th>schooling</th>\n",
              "      <th>country_code</th>\n",
              "    </tr>\n",
              "  </thead>\n",
              "  <tbody>\n",
              "    <tr>\n",
              "      <th>year</th>\n",
              "      <td>1.000000e+00</td>\n",
              "      <td>5.545187e-15</td>\n",
              "      <td>0.170033</td>\n",
              "      <td>-0.079052</td>\n",
              "      <td>-0.036464</td>\n",
              "      <td>-0.065644</td>\n",
              "      <td>0.032723</td>\n",
              "      <td>0.022671</td>\n",
              "      <td>-0.081840</td>\n",
              "      <td>0.104057</td>\n",
              "      <td>...</td>\n",
              "      <td>0.071395</td>\n",
              "      <td>0.131852</td>\n",
              "      <td>-0.138789</td>\n",
              "      <td>0.093170</td>\n",
              "      <td>0.014749</td>\n",
              "      <td>-0.044805</td>\n",
              "      <td>-0.047860</td>\n",
              "      <td>0.235866</td>\n",
              "      <td>0.207311</td>\n",
              "      <td>3.339774e-14</td>\n",
              "    </tr>\n",
              "    <tr>\n",
              "      <th>status</th>\n",
              "      <td>5.545187e-15</td>\n",
              "      <td>1.000000e+00</td>\n",
              "      <td>0.482136</td>\n",
              "      <td>-0.315284</td>\n",
              "      <td>-0.112708</td>\n",
              "      <td>0.579723</td>\n",
              "      <td>0.454032</td>\n",
              "      <td>0.127101</td>\n",
              "      <td>-0.077320</td>\n",
              "      <td>0.313314</td>\n",
              "      <td>...</td>\n",
              "      <td>0.294290</td>\n",
              "      <td>0.215868</td>\n",
              "      <td>-0.149178</td>\n",
              "      <td>0.445682</td>\n",
              "      <td>-0.037888</td>\n",
              "      <td>-0.367643</td>\n",
              "      <td>-0.366138</td>\n",
              "      <td>0.461478</td>\n",
              "      <td>0.494753</td>\n",
              "      <td>3.267863e-02</td>\n",
              "    </tr>\n",
              "    <tr>\n",
              "      <th>expectancy</th>\n",
              "      <td>1.700330e-01</td>\n",
              "      <td>4.821361e-01</td>\n",
              "      <td>1.000000</td>\n",
              "      <td>-0.696359</td>\n",
              "      <td>-0.196557</td>\n",
              "      <td>0.390674</td>\n",
              "      <td>0.381864</td>\n",
              "      <td>0.171255</td>\n",
              "      <td>-0.157586</td>\n",
              "      <td>0.558888</td>\n",
              "      <td>...</td>\n",
              "      <td>0.209588</td>\n",
              "      <td>0.473268</td>\n",
              "      <td>-0.556556</td>\n",
              "      <td>0.430991</td>\n",
              "      <td>-0.028842</td>\n",
              "      <td>-0.467859</td>\n",
              "      <td>-0.462645</td>\n",
              "      <td>0.688591</td>\n",
              "      <td>0.717314</td>\n",
              "      <td>-1.790104e-02</td>\n",
              "    </tr>\n",
              "    <tr>\n",
              "      <th>adult_mortality</th>\n",
              "      <td>-7.905159e-02</td>\n",
              "      <td>-3.152844e-01</td>\n",
              "      <td>-0.696359</td>\n",
              "      <td>1.000000</td>\n",
              "      <td>0.078756</td>\n",
              "      <td>-0.191066</td>\n",
              "      <td>-0.242860</td>\n",
              "      <td>-0.123971</td>\n",
              "      <td>0.031176</td>\n",
              "      <td>-0.380592</td>\n",
              "      <td>...</td>\n",
              "      <td>-0.112176</td>\n",
              "      <td>-0.270877</td>\n",
              "      <td>0.523821</td>\n",
              "      <td>-0.281715</td>\n",
              "      <td>-0.005392</td>\n",
              "      <td>0.296076</td>\n",
              "      <td>0.301855</td>\n",
              "      <td>-0.436268</td>\n",
              "      <td>-0.435926</td>\n",
              "      <td>4.026192e-02</td>\n",
              "    </tr>\n",
              "    <tr>\n",
              "      <th>infant_death</th>\n",
              "      <td>-3.646405e-02</td>\n",
              "      <td>-1.127082e-01</td>\n",
              "      <td>-0.196557</td>\n",
              "      <td>0.078756</td>\n",
              "      <td>1.000000</td>\n",
              "      <td>-0.113919</td>\n",
              "      <td>-0.085906</td>\n",
              "      <td>-0.168393</td>\n",
              "      <td>0.501038</td>\n",
              "      <td>-0.226969</td>\n",
              "      <td>...</td>\n",
              "      <td>-0.126471</td>\n",
              "      <td>-0.175747</td>\n",
              "      <td>0.024955</td>\n",
              "      <td>-0.103175</td>\n",
              "      <td>0.551608</td>\n",
              "      <td>0.464762</td>\n",
              "      <td>0.470469</td>\n",
              "      <td>-0.141329</td>\n",
              "      <td>-0.192421</td>\n",
              "      <td>-2.894155e-02</td>\n",
              "    </tr>\n",
              "    <tr>\n",
              "      <th>alcohol</th>\n",
              "      <td>-6.564353e-02</td>\n",
              "      <td>5.797231e-01</td>\n",
              "      <td>0.390674</td>\n",
              "      <td>-0.191066</td>\n",
              "      <td>-0.113919</td>\n",
              "      <td>1.000000</td>\n",
              "      <td>0.344228</td>\n",
              "      <td>0.089540</td>\n",
              "      <td>-0.050490</td>\n",
              "      <td>0.321196</td>\n",
              "      <td>...</td>\n",
              "      <td>0.302242</td>\n",
              "      <td>0.212766</td>\n",
              "      <td>-0.047314</td>\n",
              "      <td>0.312735</td>\n",
              "      <td>-0.027387</td>\n",
              "      <td>-0.416992</td>\n",
              "      <td>-0.406089</td>\n",
              "      <td>0.420009</td>\n",
              "      <td>0.499675</td>\n",
              "      <td>-6.383849e-02</td>\n",
              "    </tr>\n",
              "    <tr>\n",
              "      <th>expenditure</th>\n",
              "      <td>3.272257e-02</td>\n",
              "      <td>4.540322e-01</td>\n",
              "      <td>0.381864</td>\n",
              "      <td>-0.242860</td>\n",
              "      <td>-0.085906</td>\n",
              "      <td>0.344228</td>\n",
              "      <td>1.000000</td>\n",
              "      <td>0.039805</td>\n",
              "      <td>-0.056831</td>\n",
              "      <td>0.229920</td>\n",
              "      <td>...</td>\n",
              "      <td>0.177355</td>\n",
              "      <td>0.142897</td>\n",
              "      <td>-0.098230</td>\n",
              "      <td>0.901803</td>\n",
              "      <td>-0.017070</td>\n",
              "      <td>-0.250729</td>\n",
              "      <td>-0.252366</td>\n",
              "      <td>0.375234</td>\n",
              "      <td>0.387937</td>\n",
              "      <td>-3.226254e-02</td>\n",
              "    </tr>\n",
              "    <tr>\n",
              "      <th>hepatitis_b</th>\n",
              "      <td>2.267079e-02</td>\n",
              "      <td>1.271006e-01</td>\n",
              "      <td>0.171255</td>\n",
              "      <td>-0.123971</td>\n",
              "      <td>-0.168393</td>\n",
              "      <td>0.089540</td>\n",
              "      <td>0.039805</td>\n",
              "      <td>1.000000</td>\n",
              "      <td>-0.073544</td>\n",
              "      <td>0.116743</td>\n",
              "      <td>...</td>\n",
              "      <td>0.066908</td>\n",
              "      <td>0.447373</td>\n",
              "      <td>-0.086197</td>\n",
              "      <td>0.076936</td>\n",
              "      <td>-0.125713</td>\n",
              "      <td>-0.099491</td>\n",
              "      <td>-0.102505</td>\n",
              "      <td>0.118166</td>\n",
              "      <td>0.134263</td>\n",
              "      <td>-1.313136e-02</td>\n",
              "    </tr>\n",
              "    <tr>\n",
              "      <th>measles</th>\n",
              "      <td>-8.184033e-02</td>\n",
              "      <td>-7.731993e-02</td>\n",
              "      <td>-0.157586</td>\n",
              "      <td>0.031176</td>\n",
              "      <td>0.501038</td>\n",
              "      <td>-0.050490</td>\n",
              "      <td>-0.056831</td>\n",
              "      <td>-0.073544</td>\n",
              "      <td>1.000000</td>\n",
              "      <td>-0.176132</td>\n",
              "      <td>...</td>\n",
              "      <td>-0.104294</td>\n",
              "      <td>-0.142680</td>\n",
              "      <td>0.030673</td>\n",
              "      <td>-0.069531</td>\n",
              "      <td>0.237096</td>\n",
              "      <td>0.224606</td>\n",
              "      <td>0.220869</td>\n",
              "      <td>-0.110884</td>\n",
              "      <td>-0.121817</td>\n",
              "      <td>-2.307884e-02</td>\n",
              "    </tr>\n",
              "    <tr>\n",
              "      <th>bmi</th>\n",
              "      <td>1.040567e-01</td>\n",
              "      <td>3.133139e-01</td>\n",
              "      <td>0.558888</td>\n",
              "      <td>-0.380592</td>\n",
              "      <td>-0.226969</td>\n",
              "      <td>0.321196</td>\n",
              "      <td>0.229920</td>\n",
              "      <td>0.116743</td>\n",
              "      <td>-0.176132</td>\n",
              "      <td>1.000000</td>\n",
              "      <td>...</td>\n",
              "      <td>0.227095</td>\n",
              "      <td>0.283207</td>\n",
              "      <td>-0.243364</td>\n",
              "      <td>0.277118</td>\n",
              "      <td>-0.069296</td>\n",
              "      <td>-0.531240</td>\n",
              "      <td>-0.538194</td>\n",
              "      <td>0.473592</td>\n",
              "      <td>0.510756</td>\n",
              "      <td>1.945245e-02</td>\n",
              "    </tr>\n",
              "    <tr>\n",
              "      <th>under_five_deaths</th>\n",
              "      <td>-4.197985e-02</td>\n",
              "      <td>-1.156615e-01</td>\n",
              "      <td>-0.222529</td>\n",
              "      <td>0.094146</td>\n",
              "      <td>0.996628</td>\n",
              "      <td>-0.110801</td>\n",
              "      <td>-0.088152</td>\n",
              "      <td>-0.171539</td>\n",
              "      <td>0.507718</td>\n",
              "      <td>-0.237262</td>\n",
              "      <td>...</td>\n",
              "      <td>-0.128161</td>\n",
              "      <td>-0.196224</td>\n",
              "      <td>0.037783</td>\n",
              "      <td>-0.106446</td>\n",
              "      <td>0.539198</td>\n",
              "      <td>0.466640</td>\n",
              "      <td>0.471190</td>\n",
              "      <td>-0.159022</td>\n",
              "      <td>-0.207801</td>\n",
              "      <td>-2.488456e-02</td>\n",
              "    </tr>\n",
              "    <tr>\n",
              "      <th>polio</th>\n",
              "      <td>9.172655e-02</td>\n",
              "      <td>2.192209e-01</td>\n",
              "      <td>0.459458</td>\n",
              "      <td>-0.270597</td>\n",
              "      <td>-0.171273</td>\n",
              "      <td>0.212082</td>\n",
              "      <td>0.146546</td>\n",
              "      <td>0.362537</td>\n",
              "      <td>-0.136966</td>\n",
              "      <td>0.284278</td>\n",
              "      <td>...</td>\n",
              "      <td>0.137465</td>\n",
              "      <td>0.672557</td>\n",
              "      <td>-0.159484</td>\n",
              "      <td>0.190582</td>\n",
              "      <td>-0.044919</td>\n",
              "      <td>-0.219364</td>\n",
              "      <td>-0.220238</td>\n",
              "      <td>0.345770</td>\n",
              "      <td>0.374263</td>\n",
              "      <td>2.142080e-02</td>\n",
              "    </tr>\n",
              "    <tr>\n",
              "      <th>total_expenditure</th>\n",
              "      <td>7.139454e-02</td>\n",
              "      <td>2.942904e-01</td>\n",
              "      <td>0.209588</td>\n",
              "      <td>-0.112176</td>\n",
              "      <td>-0.126471</td>\n",
              "      <td>0.302242</td>\n",
              "      <td>0.177355</td>\n",
              "      <td>0.066908</td>\n",
              "      <td>-0.104294</td>\n",
              "      <td>0.227095</td>\n",
              "      <td>...</td>\n",
              "      <td>1.000000</td>\n",
              "      <td>0.152969</td>\n",
              "      <td>0.000752</td>\n",
              "      <td>0.113703</td>\n",
              "      <td>-0.061525</td>\n",
              "      <td>-0.266586</td>\n",
              "      <td>-0.273222</td>\n",
              "      <td>0.154618</td>\n",
              "      <td>0.234150</td>\n",
              "      <td>5.028490e-02</td>\n",
              "    </tr>\n",
              "    <tr>\n",
              "      <th>diphtheria</th>\n",
              "      <td>1.318516e-01</td>\n",
              "      <td>2.158679e-01</td>\n",
              "      <td>0.473268</td>\n",
              "      <td>-0.270877</td>\n",
              "      <td>-0.175747</td>\n",
              "      <td>0.212766</td>\n",
              "      <td>0.142897</td>\n",
              "      <td>0.447373</td>\n",
              "      <td>-0.142680</td>\n",
              "      <td>0.283207</td>\n",
              "      <td>...</td>\n",
              "      <td>0.152969</td>\n",
              "      <td>1.000000</td>\n",
              "      <td>-0.164768</td>\n",
              "      <td>0.182591</td>\n",
              "      <td>-0.033202</td>\n",
              "      <td>-0.227360</td>\n",
              "      <td>-0.220723</td>\n",
              "      <td>0.359984</td>\n",
              "      <td>0.377568</td>\n",
              "      <td>-2.681086e-03</td>\n",
              "    </tr>\n",
              "    <tr>\n",
              "      <th>hiv_aids</th>\n",
              "      <td>-1.387885e-01</td>\n",
              "      <td>-1.491780e-01</td>\n",
              "      <td>-0.556556</td>\n",
              "      <td>0.523821</td>\n",
              "      <td>0.024955</td>\n",
              "      <td>-0.047314</td>\n",
              "      <td>-0.098230</td>\n",
              "      <td>-0.086197</td>\n",
              "      <td>0.030673</td>\n",
              "      <td>-0.243364</td>\n",
              "      <td>...</td>\n",
              "      <td>0.000752</td>\n",
              "      <td>-0.164768</td>\n",
              "      <td>1.000000</td>\n",
              "      <td>-0.123029</td>\n",
              "      <td>-0.017289</td>\n",
              "      <td>0.203110</td>\n",
              "      <td>0.206356</td>\n",
              "      <td>-0.247559</td>\n",
              "      <td>-0.220577</td>\n",
              "      <td>9.204725e-02</td>\n",
              "    </tr>\n",
              "    <tr>\n",
              "      <th>gdp</th>\n",
              "      <td>9.316964e-02</td>\n",
              "      <td>4.456821e-01</td>\n",
              "      <td>0.430991</td>\n",
              "      <td>-0.281715</td>\n",
              "      <td>-0.103175</td>\n",
              "      <td>0.312735</td>\n",
              "      <td>0.901803</td>\n",
              "      <td>0.076936</td>\n",
              "      <td>-0.069531</td>\n",
              "      <td>0.277118</td>\n",
              "      <td>...</td>\n",
              "      <td>0.113703</td>\n",
              "      <td>0.182591</td>\n",
              "      <td>-0.123029</td>\n",
              "      <td>1.000000</td>\n",
              "      <td>-0.025476</td>\n",
              "      <td>-0.264647</td>\n",
              "      <td>-0.268377</td>\n",
              "      <td>0.436574</td>\n",
              "      <td>0.434110</td>\n",
              "      <td>-3.385513e-02</td>\n",
              "    </tr>\n",
              "    <tr>\n",
              "      <th>population</th>\n",
              "      <td>1.474886e-02</td>\n",
              "      <td>-3.788784e-02</td>\n",
              "      <td>-0.028842</td>\n",
              "      <td>-0.005392</td>\n",
              "      <td>0.551608</td>\n",
              "      <td>-0.027387</td>\n",
              "      <td>-0.017070</td>\n",
              "      <td>-0.125713</td>\n",
              "      <td>0.237096</td>\n",
              "      <td>-0.069296</td>\n",
              "      <td>...</td>\n",
              "      <td>-0.061525</td>\n",
              "      <td>-0.033202</td>\n",
              "      <td>-0.017289</td>\n",
              "      <td>-0.025476</td>\n",
              "      <td>1.000000</td>\n",
              "      <td>0.236263</td>\n",
              "      <td>0.235149</td>\n",
              "      <td>-0.017043</td>\n",
              "      <td>-0.037336</td>\n",
              "      <td>-1.905907e-02</td>\n",
              "    </tr>\n",
              "    <tr>\n",
              "      <th>thinness_1to19</th>\n",
              "      <td>-4.480530e-02</td>\n",
              "      <td>-3.676434e-01</td>\n",
              "      <td>-0.467859</td>\n",
              "      <td>0.296076</td>\n",
              "      <td>0.464762</td>\n",
              "      <td>-0.416992</td>\n",
              "      <td>-0.250729</td>\n",
              "      <td>-0.099491</td>\n",
              "      <td>0.224606</td>\n",
              "      <td>-0.531240</td>\n",
              "      <td>...</td>\n",
              "      <td>-0.266586</td>\n",
              "      <td>-0.227360</td>\n",
              "      <td>0.203110</td>\n",
              "      <td>-0.264647</td>\n",
              "      <td>0.236263</td>\n",
              "      <td>1.000000</td>\n",
              "      <td>0.939027</td>\n",
              "      <td>-0.401183</td>\n",
              "      <td>-0.442320</td>\n",
              "      <td>5.553855e-03</td>\n",
              "    </tr>\n",
              "    <tr>\n",
              "      <th>thinness_5to9</th>\n",
              "      <td>-4.786016e-02</td>\n",
              "      <td>-3.661381e-01</td>\n",
              "      <td>-0.462645</td>\n",
              "      <td>0.301855</td>\n",
              "      <td>0.470469</td>\n",
              "      <td>-0.406089</td>\n",
              "      <td>-0.252366</td>\n",
              "      <td>-0.102505</td>\n",
              "      <td>0.220869</td>\n",
              "      <td>-0.538194</td>\n",
              "      <td>...</td>\n",
              "      <td>-0.273222</td>\n",
              "      <td>-0.220723</td>\n",
              "      <td>0.206356</td>\n",
              "      <td>-0.268377</td>\n",
              "      <td>0.235149</td>\n",
              "      <td>0.939027</td>\n",
              "      <td>1.000000</td>\n",
              "      <td>-0.391124</td>\n",
              "      <td>-0.432674</td>\n",
              "      <td>2.016430e-02</td>\n",
              "    </tr>\n",
              "    <tr>\n",
              "      <th>income_composition</th>\n",
              "      <td>2.358661e-01</td>\n",
              "      <td>4.614780e-01</td>\n",
              "      <td>0.688591</td>\n",
              "      <td>-0.436268</td>\n",
              "      <td>-0.141329</td>\n",
              "      <td>0.420009</td>\n",
              "      <td>0.375234</td>\n",
              "      <td>0.118166</td>\n",
              "      <td>-0.110884</td>\n",
              "      <td>0.473592</td>\n",
              "      <td>...</td>\n",
              "      <td>0.154618</td>\n",
              "      <td>0.359984</td>\n",
              "      <td>-0.247559</td>\n",
              "      <td>0.436574</td>\n",
              "      <td>-0.017043</td>\n",
              "      <td>-0.401183</td>\n",
              "      <td>-0.391124</td>\n",
              "      <td>1.000000</td>\n",
              "      <td>0.799817</td>\n",
              "      <td>-1.996763e-02</td>\n",
              "    </tr>\n",
              "    <tr>\n",
              "      <th>schooling</th>\n",
              "      <td>2.073109e-01</td>\n",
              "      <td>4.947532e-01</td>\n",
              "      <td>0.717314</td>\n",
              "      <td>-0.435926</td>\n",
              "      <td>-0.192421</td>\n",
              "      <td>0.499675</td>\n",
              "      <td>0.387937</td>\n",
              "      <td>0.134263</td>\n",
              "      <td>-0.121817</td>\n",
              "      <td>0.510756</td>\n",
              "      <td>...</td>\n",
              "      <td>0.234150</td>\n",
              "      <td>0.377568</td>\n",
              "      <td>-0.220577</td>\n",
              "      <td>0.434110</td>\n",
              "      <td>-0.037336</td>\n",
              "      <td>-0.442320</td>\n",
              "      <td>-0.432674</td>\n",
              "      <td>0.799817</td>\n",
              "      <td>1.000000</td>\n",
              "      <td>-2.227758e-02</td>\n",
              "    </tr>\n",
              "    <tr>\n",
              "      <th>country_code</th>\n",
              "      <td>3.339774e-14</td>\n",
              "      <td>3.267863e-02</td>\n",
              "      <td>-0.017901</td>\n",
              "      <td>0.040262</td>\n",
              "      <td>-0.028942</td>\n",
              "      <td>-0.063838</td>\n",
              "      <td>-0.032263</td>\n",
              "      <td>-0.013131</td>\n",
              "      <td>-0.023079</td>\n",
              "      <td>0.019452</td>\n",
              "      <td>...</td>\n",
              "      <td>0.050285</td>\n",
              "      <td>-0.002681</td>\n",
              "      <td>0.092047</td>\n",
              "      <td>-0.033855</td>\n",
              "      <td>-0.019059</td>\n",
              "      <td>0.005554</td>\n",
              "      <td>0.020164</td>\n",
              "      <td>-0.019968</td>\n",
              "      <td>-0.022278</td>\n",
              "      <td>1.000000e+00</td>\n",
              "    </tr>\n",
              "  </tbody>\n",
              "</table>\n",
              "<p>22 rows × 22 columns</p>\n",
              "</div>\n",
              "      <button class=\"colab-df-convert\" onclick=\"convertToInteractive('df-e8b69a4e-c971-46b0-9128-ae49eef4f930')\"\n",
              "              title=\"Convert this dataframe to an interactive table.\"\n",
              "              style=\"display:none;\">\n",
              "        \n",
              "  <svg xmlns=\"http://www.w3.org/2000/svg\" height=\"24px\"viewBox=\"0 0 24 24\"\n",
              "       width=\"24px\">\n",
              "    <path d=\"M0 0h24v24H0V0z\" fill=\"none\"/>\n",
              "    <path d=\"M18.56 5.44l.94 2.06.94-2.06 2.06-.94-2.06-.94-.94-2.06-.94 2.06-2.06.94zm-11 1L8.5 8.5l.94-2.06 2.06-.94-2.06-.94L8.5 2.5l-.94 2.06-2.06.94zm10 10l.94 2.06.94-2.06 2.06-.94-2.06-.94-.94-2.06-.94 2.06-2.06.94z\"/><path d=\"M17.41 7.96l-1.37-1.37c-.4-.4-.92-.59-1.43-.59-.52 0-1.04.2-1.43.59L10.3 9.45l-7.72 7.72c-.78.78-.78 2.05 0 2.83L4 21.41c.39.39.9.59 1.41.59.51 0 1.02-.2 1.41-.59l7.78-7.78 2.81-2.81c.8-.78.8-2.07 0-2.86zM5.41 20L4 18.59l7.72-7.72 1.47 1.35L5.41 20z\"/>\n",
              "  </svg>\n",
              "      </button>\n",
              "      \n",
              "  <style>\n",
              "    .colab-df-container {\n",
              "      display:flex;\n",
              "      flex-wrap:wrap;\n",
              "      gap: 12px;\n",
              "    }\n",
              "\n",
              "    .colab-df-convert {\n",
              "      background-color: #E8F0FE;\n",
              "      border: none;\n",
              "      border-radius: 50%;\n",
              "      cursor: pointer;\n",
              "      display: none;\n",
              "      fill: #1967D2;\n",
              "      height: 32px;\n",
              "      padding: 0 0 0 0;\n",
              "      width: 32px;\n",
              "    }\n",
              "\n",
              "    .colab-df-convert:hover {\n",
              "      background-color: #E2EBFA;\n",
              "      box-shadow: 0px 1px 2px rgba(60, 64, 67, 0.3), 0px 1px 3px 1px rgba(60, 64, 67, 0.15);\n",
              "      fill: #174EA6;\n",
              "    }\n",
              "\n",
              "    [theme=dark] .colab-df-convert {\n",
              "      background-color: #3B4455;\n",
              "      fill: #D2E3FC;\n",
              "    }\n",
              "\n",
              "    [theme=dark] .colab-df-convert:hover {\n",
              "      background-color: #434B5C;\n",
              "      box-shadow: 0px 1px 3px 1px rgba(0, 0, 0, 0.15);\n",
              "      filter: drop-shadow(0px 1px 2px rgba(0, 0, 0, 0.3));\n",
              "      fill: #FFFFFF;\n",
              "    }\n",
              "  </style>\n",
              "\n",
              "      <script>\n",
              "        const buttonEl =\n",
              "          document.querySelector('#df-e8b69a4e-c971-46b0-9128-ae49eef4f930 button.colab-df-convert');\n",
              "        buttonEl.style.display =\n",
              "          google.colab.kernel.accessAllowed ? 'block' : 'none';\n",
              "\n",
              "        async function convertToInteractive(key) {\n",
              "          const element = document.querySelector('#df-e8b69a4e-c971-46b0-9128-ae49eef4f930');\n",
              "          const dataTable =\n",
              "            await google.colab.kernel.invokeFunction('convertToInteractive',\n",
              "                                                     [key], {});\n",
              "          if (!dataTable) return;\n",
              "\n",
              "          const docLinkHtml = 'Like what you see? Visit the ' +\n",
              "            '<a target=\"_blank\" href=https://colab.research.google.com/notebooks/data_table.ipynb>data table notebook</a>'\n",
              "            + ' to learn more about interactive tables.';\n",
              "          element.innerHTML = '';\n",
              "          dataTable['output_type'] = 'display_data';\n",
              "          await google.colab.output.renderOutput(dataTable, element);\n",
              "          const docLink = document.createElement('div');\n",
              "          docLink.innerHTML = docLinkHtml;\n",
              "          element.appendChild(docLink);\n",
              "        }\n",
              "      </script>\n",
              "    </div>\n",
              "  </div>\n",
              "  "
            ]
          },
          "metadata": {},
          "execution_count": 84
        }
      ],
      "source": [
        "data.corr()\n",
        "#year, hepatitis_b, population, measles has very poor correlation with expectancy so we will drop these columns"
      ]
    },
    {
      "cell_type": "code",
      "execution_count": 85,
      "metadata": {
        "id": "I0vX2-Zbe4dh",
        "outputId": "a71e6cb9-549e-4f99-b5df-53afc9378439",
        "colab": {
          "base_uri": "https://localhost:8080/",
          "height": 1000
        }
      },
      "outputs": [
        {
          "output_type": "stream",
          "name": "stdout",
          "text": [
            "\"None of [Index(['country'], dtype='object')] are in the [columns]\"\n"
          ]
        },
        {
          "output_type": "display_data",
          "data": {
            "text/plain": [
              "<Figure size 432x288 with 1 Axes>"
            ],
            "image/png": "[encoded data removed]"
          },
          "metadata": {
            "needs_background": "light"
          }
        },
        {
          "output_type": "display_data",
          "data": {
            "text/plain": [
              "<Figure size 432x288 with 1 Axes>"
            ],
            "image/png": "[encoded data removed]"
          },
          "metadata": {
            "needs_background": "light"
          }
        },
        {
          "output_type": "display_data",
          "data": {
            "text/plain": [
              "<Figure size 432x288 with 1 Axes>"
            ],
            "image/png": "[encoded data removed]"
          },
          "metadata": {
            "needs_background": "light"
          }
        },
        {
          "output_type": "display_data",
          "data": {
            "text/plain": [
              "<Figure size 432x288 with 1 Axes>"
            ],
            "image/png": "[encoded data removed]"
          },
          "metadata": {
            "needs_background": "light"
          }
        },
        {
          "output_type": "display_data",
          "data": {
            "text/plain": [
              "<Figure size 432x288 with 1 Axes>"
            ],
            "image/png": "[encoded data removed]"
          },
          "metadata": {
            "needs_background": "light"
          }
        },
        {
          "output_type": "display_data",
          "data": {
            "text/plain": [
              "<Figure size 432x288 with 1 Axes>"
            ],
            "image/png": "[encoded data removed]"
          },
          "metadata": {
            "needs_background": "light"
          }
        },
        {
          "output_type": "display_data",
          "data": {
            "text/plain": [
              "<Figure size 432x288 with 1 Axes>"
            ],
            "image/png": "[encoded data removed]"
          },
          "metadata": {
            "needs_background": "light"
          }
        },
        {
          "output_type": "display_data",
          "data": {
            "text/plain": [
              "<Figure size 432x288 with 1 Axes>"
            ],
            "image/png": "[encoded data removed]"
          },
          "metadata": {
            "needs_background": "light"
          }
        },
        {
          "output_type": "display_data",
          "data": {
            "text/plain": [
              "<Figure size 432x288 with 1 Axes>"
            ],
            "image/png": "[encoded data removed]"
          },
          "metadata": {
            "needs_background": "light"
          }
        },
        {
          "output_type": "display_data",
          "data": {
            "text/plain": [
              "<Figure size 432x288 with 1 Axes>"
            ],
            "image/png": "[encoded data removed]"
          },
          "metadata": {
            "needs_background": "light"
          }
        },
        {
          "output_type": "display_data",
          "data": {
            "text/plain": [
              "<Figure size 432x288 with 1 Axes>"
            ],
            "image/png": "[encoded data removed]"
          },
          "metadata": {
            "needs_background": "light"
          }
        },
        {
          "output_type": "display_data",
          "data": {
            "text/plain": [
              "<Figure size 432x288 with 1 Axes>"
            ],
            "image/png": "[encoded data removed]"
          },
          "metadata": {
            "needs_background": "light"
          }
        },
        {
          "output_type": "display_data",
          "data": {
            "text/plain": [
              "<Figure size 432x288 with 1 Axes>"
            ],
            "image/png": "[encoded data removed]"
          },
          "metadata": {
            "needs_background": "light"
          }
        },
        {
          "output_type": "display_data",
          "data": {
            "text/plain": [
              "<Figure size 432x288 with 1 Axes>"
            ],
            "image/png": "[encoded data removed]"
          },
          "metadata": {
            "needs_background": "light"
          }
        },
        {
          "output_type": "display_data",
          "data": {
            "text/plain": [
              "<Figure size 432x288 with 1 Axes>"
            ],
            "image/png": "[encoded data removed]"
          },
          "metadata": {
            "needs_background": "light"
          }
        },
        {
          "output_type": "display_data",
          "data": {
            "text/plain": [
              "<Figure size 432x288 with 1 Axes>"
            ],
            "image/png": "[encoded data removed]"
          },
          "metadata": {
            "needs_background": "light"
          }
        },
        {
          "output_type": "display_data",
          "data": {
            "text/plain": [
              "<Figure size 432x288 with 1 Axes>"
            ],
            "image/png": "[encoded data removed]"
          },
          "metadata": {
            "needs_background": "light"
          }
        },
        {
          "output_type": "display_data",
          "data": {
            "text/plain": [
              "<Figure size 432x288 with 1 Axes>"
            ],
            "image/png": "[encoded data removed]"
          },
          "metadata": {
            "needs_background": "light"
          }
        },
        {
          "output_type": "display_data",
          "data": {
            "text/plain": [
              "<Figure size 432x288 with 1 Axes>"
            ],
            "image/png": "[encoded data removed]"
          },
          "metadata": {
            "needs_background": "light"
          }
        },
        {
          "output_type": "display_data",
          "data": {
            "text/plain": [
              "<Figure size 432x288 with 1 Axes>"
            ],
            "image/png": "[encoded data removed]"
          },
          "metadata": {
            "needs_background": "light"
          }
        },
        {
          "output_type": "display_data",
          "data": {
            "text/plain": [
              "<Figure size 432x288 with 1 Axes>"
            ],
            "image/png": "[encoded data removed]"
          },
          "metadata": {
            "needs_background": "light"
          }
        },
        {
          "output_type": "display_data",
          "data": {
            "text/plain": [
              "<Figure size 432x288 with 1 Axes>"
            ],
            "image/png": "[encoded data removed]"
          },
          "metadata": {
            "needs_background": "light"
          }
        }
      ],
      "source": [
        "#now we will start the data exploration\n",
        "for i in data.columns:\n",
        "  try:\n",
        "    data.iloc[:, 1:].boxplot(column=i)\n",
        "    plt.show()\n",
        "  except Exception as e :\n",
        "    print (e) "
      ]
    },
    {
      "cell_type": "code",
      "execution_count": 86,
      "metadata": {
        "id": "vTLIAQOde4dh",
        "outputId": "a704c575-ab67-4026-ba70-f0e4c6d6abc7",
        "colab": {
          "base_uri": "https://localhost:8080/",
          "height": 1000
        }
      },
      "outputs": [
        {
          "output_type": "stream",
          "name": "stdout",
          "text": [
            "Distribution Plot for  country\n"
          ]
        },
        {
          "output_type": "display_data",
          "data": {
            "text/plain": [
              "<Figure size 432x288 with 1 Axes>"
            ],
            "image/png": "[encoded data removed]"
          },
          "metadata": {
            "needs_background": "light"
          }
        },
        {
          "output_type": "stream",
          "name": "stdout",
          "text": [
            "Distribution Plot for  year\n"
          ]
        },
        {
          "output_type": "display_data",
          "data": {
            "text/plain": [
              "<Figure size 432x288 with 1 Axes>"
            ],
            "image/png": "[encoded data removed]"
          },
          "metadata": {
            "needs_background": "light"
          }
        },
        {
          "output_type": "stream",
          "name": "stdout",
          "text": [
            "Distribution Plot for  status\n"
          ]
        },
        {
          "output_type": "display_data",
          "data": {
            "text/plain": [
              "<Figure size 432x288 with 1 Axes>"
            ],
            "image/png": "[encoded data removed]"
          },
          "metadata": {
            "needs_background": "light"
          }
        },
        {
          "output_type": "stream",
          "name": "stdout",
          "text": [
            "Distribution Plot for  expectancy\n"
          ]
        },
        {
          "output_type": "display_data",
          "data": {
            "text/plain": [
              "<Figure size 432x288 with 1 Axes>"
            ],
            "image/png": "[encoded data removed]"
          },
          "metadata": {
            "needs_background": "light"
          }
        },
        {
          "output_type": "stream",
          "name": "stdout",
          "text": [
            "Distribution Plot for  adult_mortality\n"
          ]
        },
        {
          "output_type": "display_data",
          "data": {
            "text/plain": [
              "<Figure size 432x288 with 1 Axes>"
            ],
            "image/png": "[encoded data removed]"
          },
          "metadata": {
            "needs_background": "light"
          }
        },
        {
          "output_type": "stream",
          "name": "stdout",
          "text": [
            "Distribution Plot for  infant_death\n"
          ]
        },
        {
          "output_type": "display_data",
          "data": {
            "text/plain": [
              "<Figure size 432x288 with 1 Axes>"
            ],
            "image/png": "[encoded data removed]"
          },
          "metadata": {
            "needs_background": "light"
          }
        },
        {
          "output_type": "stream",
          "name": "stdout",
          "text": [
            "Distribution Plot for  alcohol\n"
          ]
        },
        {
          "output_type": "display_data",
          "data": {
            "text/plain": [
              "<Figure size 432x288 with 1 Axes>"
            ],
            "image/png": "[encoded data removed]"
          },
          "metadata": {
            "needs_background": "light"
          }
        },
        {
          "output_type": "stream",
          "name": "stdout",
          "text": [
            "Distribution Plot for  expenditure\n"
          ]
        },
        {
          "output_type": "display_data",
          "data": {
            "text/plain": [
              "<Figure size 432x288 with 1 Axes>"
            ],
            "image/png": "[encoded data removed]"
          },
          "metadata": {
            "needs_background": "light"
          }
        },
        {
          "output_type": "stream",
          "name": "stdout",
          "text": [
            "Distribution Plot for  hepatitis_b\n"
          ]
        },
        {
          "output_type": "display_data",
          "data": {
            "text/plain": [
              "<Figure size 432x288 with 1 Axes>"
            ],
            "image/png": "[encoded data removed]"
          },
          "metadata": {
            "needs_background": "light"
          }
        },
        {
          "output_type": "stream",
          "name": "stdout",
          "text": [
            "Distribution Plot for  measles\n"
          ]
        },
        {
          "output_type": "display_data",
          "data": {
            "text/plain": [
              "<Figure size 432x288 with 1 Axes>"
            ],
            "image/png": "[encoded data removed]"
          },
          "metadata": {
            "needs_background": "light"
          }
        },
        {
          "output_type": "stream",
          "name": "stdout",
          "text": [
            "Distribution Plot for  bmi\n"
          ]
        },
        {
          "output_type": "display_data",
          "data": {
            "text/plain": [
              "<Figure size 432x288 with 1 Axes>"
            ],
            "image/png": "[encoded data removed]"
          },
          "metadata": {
            "needs_background": "light"
          }
        },
        {
          "output_type": "stream",
          "name": "stdout",
          "text": [
            "Distribution Plot for  under_five_deaths\n"
          ]
        },
        {
          "output_type": "display_data",
          "data": {
            "text/plain": [
              "<Figure size 432x288 with 1 Axes>"
            ],
            "image/png": "[encoded data removed]"
          },
          "metadata": {
            "needs_background": "light"
          }
        },
        {
          "output_type": "stream",
          "name": "stdout",
          "text": [
            "Distribution Plot for  polio\n"
          ]
        },
        {
          "output_type": "display_data",
          "data": {
            "text/plain": [
              "<Figure size 432x288 with 1 Axes>"
            ],
            "image/png": "[encoded data removed]"
          },
          "metadata": {
            "needs_background": "light"
          }
        },
        {
          "output_type": "stream",
          "name": "stdout",
          "text": [
            "Distribution Plot for  total_expenditure\n"
          ]
        },
        {
          "output_type": "display_data",
          "data": {
            "text/plain": [
              "<Figure size 432x288 with 1 Axes>"
            ],
            "image/png": "[encoded data removed]"
          },
          "metadata": {
            "needs_background": "light"
          }
        },
        {
          "output_type": "stream",
          "name": "stdout",
          "text": [
            "Distribution Plot for  diphtheria\n"
          ]
        },
        {
          "output_type": "display_data",
          "data": {
            "text/plain": [
              "<Figure size 432x288 with 1 Axes>"
            ],
            "image/png": "[encoded data removed]"
          },
          "metadata": {
            "needs_background": "light"
          }
        },
        {
          "output_type": "stream",
          "name": "stdout",
          "text": [
            "Distribution Plot for  hiv_aids\n"
          ]
        },
        {
          "output_type": "display_data",
          "data": {
            "text/plain": [
              "<Figure size 432x288 with 1 Axes>"
            ],
            "image/png": "[encoded data removed]"
          },
          "metadata": {
            "needs_background": "light"
          }
        },
        {
          "output_type": "stream",
          "name": "stdout",
          "text": [
            "Distribution Plot for  gdp\n"
          ]
        },
        {
          "output_type": "display_data",
          "data": {
            "text/plain": [
              "<Figure size 432x288 with 1 Axes>"
            ],
            "image/png": "[encoded data removed]"
          },
          "metadata": {
            "needs_background": "light"
          }
        },
        {
          "output_type": "stream",
          "name": "stdout",
          "text": [
            "Distribution Plot for  population\n"
          ]
        },
        {
          "output_type": "display_data",
          "data": {
            "text/plain": [
              "<Figure size 432x288 with 1 Axes>"
            ],
            "image/png": "[encoded data removed]"
          },
          "metadata": {
            "needs_background": "light"
          }
        },
        {
          "output_type": "stream",
          "name": "stdout",
          "text": [
            "Distribution Plot for  thinness_1to19\n"
          ]
        },
        {
          "output_type": "display_data",
          "data": {
            "text/plain": [
              "<Figure size 432x288 with 1 Axes>"
            ],
            "image/png": "[encoded data removed]"
          },
          "metadata": {
            "needs_background": "light"
          }
        },
        {
          "output_type": "stream",
          "name": "stdout",
          "text": [
            "Distribution Plot for  thinness_5to9\n"
          ]
        },
        {
          "output_type": "display_data",
          "data": {
            "text/plain": [
              "<Figure size 432x288 with 1 Axes>"
            ],
            "image/png": "[encoded data removed]"
          },
          "metadata": {
            "needs_background": "light"
          }
        },
        {
          "output_type": "stream",
          "name": "stdout",
          "text": [
            "Distribution Plot for  income_composition\n"
          ]
        },
        {
          "output_type": "display_data",
          "data": {
            "text/plain": [
              "<Figure size 432x288 with 1 Axes>"
            ],
            "image/png": "[encoded data removed]"
          },
          "metadata": {
            "needs_background": "light"
          }
        },
        {
          "output_type": "stream",
          "name": "stdout",
          "text": [
            "Distribution Plot for  schooling\n"
          ]
        },
        {
          "output_type": "display_data",
          "data": {
            "text/plain": [
              "<Figure size 432x288 with 1 Axes>"
            ],
            "image/png": "[encoded data removed]"
          },
          "metadata": {
            "needs_background": "light"
          }
        },
        {
          "output_type": "stream",
          "name": "stdout",
          "text": [
            "Distribution Plot for  country_code\n"
          ]
        },
        {
          "output_type": "display_data",
          "data": {
            "text/plain": [
              "<Figure size 432x288 with 1 Axes>"
            ],
            "image/png": "[encoded data removed]"
          },
          "metadata": {
            "needs_background": "light"
          }
        }
      ],
      "source": [
        "#distribution of the data\n",
        "for col in data.columns:\n",
        "    \n",
        "    hist = data[col].hist(bins=10)\n",
        "    print(\"Distribution Plot for  {0}\".format(col))\n",
        "    plt.show()"
      ]
    },
    {
      "cell_type": "code",
      "execution_count": 87,
      "metadata": {
        "id": "0F7HgkfYe4di",
        "outputId": "8f70260d-848c-42a4-9356-ce1ce86a3326",
        "colab": {
          "base_uri": "https://localhost:8080/",
          "height": 299
        }
      },
      "outputs": [
        {
          "output_type": "execute_result",
          "data": {
            "text/plain": [
              "       country  year  status  expectancy  adult_mortality  infant_death  \\\n",
              "0  Afghanistan  2015       0        65.0            263.0            62   \n",
              "1  Afghanistan  2014       0        59.9            271.0            64   \n",
              "2  Afghanistan  2013       0        59.9            268.0            66   \n",
              "3  Afghanistan  2012       0        59.5            272.0            69   \n",
              "4  Afghanistan  2011       0        59.2            275.0            71   \n",
              "\n",
              "   alcohol  expenditure  hepatitis_b  measles  ...  total_expenditure  \\\n",
              "0     0.01    71.279624         65.0     1154  ...               8.16   \n",
              "1     0.01    73.523582         62.0      492  ...               8.18   \n",
              "2     0.01    73.219243         64.0      430  ...               8.13   \n",
              "3     0.01    78.184215         67.0     2787  ...               8.52   \n",
              "4     0.01     7.097109         68.0     3013  ...               7.87   \n",
              "\n",
              "   diphtheria  hiv_aids         gdp  population  thinness_1to19  \\\n",
              "0        65.0       0.1  584.259210  33736494.0            17.2   \n",
              "1        62.0       0.1  612.696514    327582.0            17.5   \n",
              "2        64.0       0.1  631.744976  31731688.0            17.7   \n",
              "3        67.0       0.1  669.959000   3696958.0            17.9   \n",
              "4        68.0       0.1   63.537231   2978599.0            18.2   \n",
              "\n",
              "   thinness_5to9  income_composition  schooling  country_code  \n",
              "0           17.3               0.479       10.1           0.0  \n",
              "1           17.5               0.476       10.0           0.0  \n",
              "2           17.7               0.470        9.9           0.0  \n",
              "3           18.0               0.463        9.8           0.0  \n",
              "4           18.2               0.454        9.5           0.0  \n",
              "\n",
              "[5 rows x 23 columns]"
            ],
            "text/html": [
              "\n",
              "  <div id=\"df-d06bf01c-7d95-4535-8173-6260ca5be3fd\">\n",
              "    <div class=\"colab-df-container\">\n",
              "      <div>\n",
              "<style scoped>\n",
              "    .dataframe tbody tr th:only-of-type {\n",
              "        vertical-align: middle;\n",
              "    }\n",
              "\n",
              "    .dataframe tbody tr th {\n",
              "        vertical-align: top;\n",
              "    }\n",
              "\n",
              "    .dataframe thead th {\n",
              "        text-align: right;\n",
              "    }\n",
              "</style>\n",
              "<table border=\"1\" class=\"dataframe\">\n",
              "  <thead>\n",
              "    <tr style=\"text-align: right;\">\n",
              "      <th></th>\n",
              "      <th>country</th>\n",
              "      <th>year</th>\n",
              "      <th>status</th>\n",
              "      <th>expectancy</th>\n",
              "      <th>adult_mortality</th>\n",
              "      <th>infant_death</th>\n",
              "      <th>alcohol</th>\n",
              "      <th>expenditure</th>\n",
              "      <th>hepatitis_b</th>\n",
              "      <th>measles</th>\n",
              "      <th>...</th>\n",
              "      <th>total_expenditure</th>\n",
              "      <th>diphtheria</th>\n",
              "      <th>hiv_aids</th>\n",
              "      <th>gdp</th>\n",
              "      <th>population</th>\n",
              "      <th>thinness_1to19</th>\n",
              "      <th>thinness_5to9</th>\n",
              "      <th>income_composition</th>\n",
              "      <th>schooling</th>\n",
              "      <th>country_code</th>\n",
              "    </tr>\n",
              "  </thead>\n",
              "  <tbody>\n",
              "    <tr>\n",
              "      <th>0</th>\n",
              "      <td>Afghanistan</td>\n",
              "      <td>2015</td>\n",
              "      <td>0</td>\n",
              "      <td>65.0</td>\n",
              "      <td>263.0</td>\n",
              "      <td>62</td>\n",
              "      <td>0.01</td>\n",
              "      <td>71.279624</td>\n",
              "      <td>65.0</td>\n",
              "      <td>1154</td>\n",
              "      <td>...</td>\n",
              "      <td>8.16</td>\n",
              "      <td>65.0</td>\n",
              "      <td>0.1</td>\n",
              "      <td>584.259210</td>\n",
              "      <td>33736494.0</td>\n",
              "      <td>17.2</td>\n",
              "      <td>17.3</td>\n",
              "      <td>0.479</td>\n",
              "      <td>10.1</td>\n",
              "      <td>0.0</td>\n",
              "    </tr>\n",
              "    <tr>\n",
              "      <th>1</th>\n",
              "      <td>Afghanistan</td>\n",
              "      <td>2014</td>\n",
              "      <td>0</td>\n",
              "      <td>59.9</td>\n",
              "      <td>271.0</td>\n",
              "      <td>64</td>\n",
              "      <td>0.01</td>\n",
              "      <td>73.523582</td>\n",
              "      <td>62.0</td>\n",
              "      <td>492</td>\n",
              "      <td>...</td>\n",
              "      <td>8.18</td>\n",
              "      <td>62.0</td>\n",
              "      <td>0.1</td>\n",
              "      <td>612.696514</td>\n",
              "      <td>327582.0</td>\n",
              "      <td>17.5</td>\n",
              "      <td>17.5</td>\n",
              "      <td>0.476</td>\n",
              "      <td>10.0</td>\n",
              "      <td>0.0</td>\n",
              "    </tr>\n",
              "    <tr>\n",
              "      <th>2</th>\n",
              "      <td>Afghanistan</td>\n",
              "      <td>2013</td>\n",
              "      <td>0</td>\n",
              "      <td>59.9</td>\n",
              "      <td>268.0</td>\n",
              "      <td>66</td>\n",
              "      <td>0.01</td>\n",
              "      <td>73.219243</td>\n",
              "      <td>64.0</td>\n",
              "      <td>430</td>\n",
              "      <td>...</td>\n",
              "      <td>8.13</td>\n",
              "      <td>64.0</td>\n",
              "      <td>0.1</td>\n",
              "      <td>631.744976</td>\n",
              "      <td>31731688.0</td>\n",
              "      <td>17.7</td>\n",
              "      <td>17.7</td>\n",
              "      <td>0.470</td>\n",
              "      <td>9.9</td>\n",
              "      <td>0.0</td>\n",
              "    </tr>\n",
              "    <tr>\n",
              "      <th>3</th>\n",
              "      <td>Afghanistan</td>\n",
              "      <td>2012</td>\n",
              "      <td>0</td>\n",
              "      <td>59.5</td>\n",
              "      <td>272.0</td>\n",
              "      <td>69</td>\n",
              "      <td>0.01</td>\n",
              "      <td>78.184215</td>\n",
              "      <td>67.0</td>\n",
              "      <td>2787</td>\n",
              "      <td>...</td>\n",
              "      <td>8.52</td>\n",
              "      <td>67.0</td>\n",
              "      <td>0.1</td>\n",
              "      <td>669.959000</td>\n",
              "      <td>3696958.0</td>\n",
              "      <td>17.9</td>\n",
              "      <td>18.0</td>\n",
              "      <td>0.463</td>\n",
              "      <td>9.8</td>\n",
              "      <td>0.0</td>\n",
              "    </tr>\n",
              "    <tr>\n",
              "      <th>4</th>\n",
              "      <td>Afghanistan</td>\n",
              "      <td>2011</td>\n",
              "      <td>0</td>\n",
              "      <td>59.2</td>\n",
              "      <td>275.0</td>\n",
              "      <td>71</td>\n",
              "      <td>0.01</td>\n",
              "      <td>7.097109</td>\n",
              "      <td>68.0</td>\n",
              "      <td>3013</td>\n",
              "      <td>...</td>\n",
              "      <td>7.87</td>\n",
              "      <td>68.0</td>\n",
              "      <td>0.1</td>\n",
              "      <td>63.537231</td>\n",
              "      <td>2978599.0</td>\n",
              "      <td>18.2</td>\n",
              "      <td>18.2</td>\n",
              "      <td>0.454</td>\n",
              "      <td>9.5</td>\n",
              "      <td>0.0</td>\n",
              "    </tr>\n",
              "  </tbody>\n",
              "</table>\n",
              "<p>5 rows × 23 columns</p>\n",
              "</div>\n",
              "      <button class=\"colab-df-convert\" onclick=\"convertToInteractive('df-d06bf01c-7d95-4535-8173-6260ca5be3fd')\"\n",
              "              title=\"Convert this dataframe to an interactive table.\"\n",
              "              style=\"display:none;\">\n",
              "        \n",
              "  <svg xmlns=\"http://www.w3.org/2000/svg\" height=\"24px\"viewBox=\"0 0 24 24\"\n",
              "       width=\"24px\">\n",
              "    <path d=\"M0 0h24v24H0V0z\" fill=\"none\"/>\n",
              "    <path d=\"M18.56 5.44l.94 2.06.94-2.06 2.06-.94-2.06-.94-.94-2.06-.94 2.06-2.06.94zm-11 1L8.5 8.5l.94-2.06 2.06-.94-2.06-.94L8.5 2.5l-.94 2.06-2.06.94zm10 10l.94 2.06.94-2.06 2.06-.94-2.06-.94-.94-2.06-.94 2.06-2.06.94z\"/><path d=\"M17.41 7.96l-1.37-1.37c-.4-.4-.92-.59-1.43-.59-.52 0-1.04.2-1.43.59L10.3 9.45l-7.72 7.72c-.78.78-.78 2.05 0 2.83L4 21.41c.39.39.9.59 1.41.59.51 0 1.02-.2 1.41-.59l7.78-7.78 2.81-2.81c.8-.78.8-2.07 0-2.86zM5.41 20L4 18.59l7.72-7.72 1.47 1.35L5.41 20z\"/>\n",
              "  </svg>\n",
              "      </button>\n",
              "      \n",
              "  <style>\n",
              "    .colab-df-container {\n",
              "      display:flex;\n",
              "      flex-wrap:wrap;\n",
              "      gap: 12px;\n",
              "    }\n",
              "\n",
              "    .colab-df-convert {\n",
              "      background-color: #E8F0FE;\n",
              "      border: none;\n",
              "      border-radius: 50%;\n",
              "      cursor: pointer;\n",
              "      display: none;\n",
              "      fill: #1967D2;\n",
              "      height: 32px;\n",
              "      padding: 0 0 0 0;\n",
              "      width: 32px;\n",
              "    }\n",
              "\n",
              "    .colab-df-convert:hover {\n",
              "      background-color: #E2EBFA;\n",
              "      box-shadow: 0px 1px 2px rgba(60, 64, 67, 0.3), 0px 1px 3px 1px rgba(60, 64, 67, 0.15);\n",
              "      fill: #174EA6;\n",
              "    }\n",
              "\n",
              "    [theme=dark] .colab-df-convert {\n",
              "      background-color: #3B4455;\n",
              "      fill: #D2E3FC;\n",
              "    }\n",
              "\n",
              "    [theme=dark] .colab-df-convert:hover {\n",
              "      background-color: #434B5C;\n",
              "      box-shadow: 0px 1px 3px 1px rgba(0, 0, 0, 0.15);\n",
              "      filter: drop-shadow(0px 1px 2px rgba(0, 0, 0, 0.3));\n",
              "      fill: #FFFFFF;\n",
              "    }\n",
              "  </style>\n",
              "\n",
              "      <script>\n",
              "        const buttonEl =\n",
              "          document.querySelector('#df-d06bf01c-7d95-4535-8173-6260ca5be3fd button.colab-df-convert');\n",
              "        buttonEl.style.display =\n",
              "          google.colab.kernel.accessAllowed ? 'block' : 'none';\n",
              "\n",
              "        async function convertToInteractive(key) {\n",
              "          const element = document.querySelector('#df-d06bf01c-7d95-4535-8173-6260ca5be3fd');\n",
              "          const dataTable =\n",
              "            await google.colab.kernel.invokeFunction('convertToInteractive',\n",
              "                                                     [key], {});\n",
              "          if (!dataTable) return;\n",
              "\n",
              "          const docLinkHtml = 'Like what you see? Visit the ' +\n",
              "            '<a target=\"_blank\" href=https://colab.research.google.com/notebooks/data_table.ipynb>data table notebook</a>'\n",
              "            + ' to learn more about interactive tables.';\n",
              "          element.innerHTML = '';\n",
              "          dataTable['output_type'] = 'display_data';\n",
              "          await google.colab.output.renderOutput(dataTable, element);\n",
              "          const docLink = document.createElement('div');\n",
              "          docLink.innerHTML = docLinkHtml;\n",
              "          element.appendChild(docLink);\n",
              "        }\n",
              "      </script>\n",
              "    </div>\n",
              "  </div>\n",
              "  "
            ]
          },
          "metadata": {},
          "execution_count": 87
        }
      ],
      "source": [
        "#copying data into a new dataframe to drop the unneccessary \n",
        "data_new = data\n",
        "data_new.head()"
      ]
    },
    {
      "cell_type": "code",
      "execution_count": 88,
      "metadata": {
        "id": "sHUqQyZVe4di"
      },
      "outputs": [],
      "source": [
        "data_new.drop(columns = ['country', 'year', 'hepatitis_b', 'population', 'measles'] ,inplace = True)\n",
        "#dropping country too because we have the coutry code column"
      ]
    },
    {
      "cell_type": "code",
      "execution_count": 89,
      "metadata": {
        "id": "17JABjL3e4di",
        "outputId": "4371c7b8-8ff2-4db4-e8a6-9feadf304b85",
        "colab": {
          "base_uri": "https://localhost:8080/"
        }
      },
      "outputs": [
        {
          "output_type": "execute_result",
          "data": {
            "text/plain": [
              "(2928, 18)"
            ]
          },
          "metadata": {},
          "execution_count": 89
        }
      ],
      "source": [
        "data_new.shape"
      ]
    },
    {
      "cell_type": "code",
      "execution_count": 90,
      "metadata": {
        "id": "eYtEbIQ3e4di"
      },
      "outputs": [],
      "source": [
        "#splitting the data into X and Y\n",
        "X = data_new.drop(\"expectancy\", axis=1)\n",
        "y = data_new[\"expectancy\"]"
      ]
    },
    {
      "cell_type": "code",
      "execution_count": 91,
      "metadata": {
        "id": "-wZyzlsFe4di"
      },
      "outputs": [],
      "source": [
        "#splitting into test and train\n",
        "X_train, X_test, y_train, y_test = train_test_split(X, y, test_size = 0.25, random_state = 547)"
      ]
    },
    {
      "cell_type": "code",
      "execution_count": 92,
      "metadata": {
        "id": "qhz8wD7me4di",
        "outputId": "9775c6fc-9dcd-4214-93d4-61cec7df9778",
        "colab": {
          "base_uri": "https://localhost:8080/"
        }
      },
      "outputs": [
        {
          "output_type": "stream",
          "name": "stdout",
          "text": [
            "[LinearRegression(), Lasso(), Ridge(), RandomForestRegressor(), KNeighborsRegressor(), XGBRegressor()]\n"
          ]
        }
      ],
      "source": [
        "#creating the models\n",
        "lin_regression = LinearRegression()\n",
        "lasso = Lasso()\n",
        "ridge = Ridge()\n",
        "randomForest = RandomForestRegressor()\n",
        "knn = KNeighborsRegressor()\n",
        "xgb = XGBRegressor()\n",
        "reg_models = [lin_regression,lasso,ridge,randomForest,knn,xgb]\n",
        "print(reg_models)"
      ]
    },
    {
      "cell_type": "code",
      "execution_count": 93,
      "metadata": {
        "id": "Lk5xd0K3e4dj",
        "outputId": "5dff1219-5ff4-4c6b-91cb-b3d92b770449",
        "colab": {
          "base_uri": "https://localhost:8080/"
        }
      },
      "outputs": [
        {
          "output_type": "stream",
          "name": "stdout",
          "text": [
            "LinearRegression()\n"
          ]
        },
        {
          "output_type": "stream",
          "name": "stderr",
          "text": [
            "/usr/local/lib/python3.7/dist-packages/sklearn/linear_model/_coordinate_descent.py:648: ConvergenceWarning: Objective did not converge. You might want to increase the number of iterations, check the scale of the features or consider increasing regularisation. Duality gap: 7.491e+01, tolerance: 2.090e+01\n",
            "  coef_, l1_reg, l2_reg, X, y, max_iter, tol, rng, random, positive\n"
          ]
        },
        {
          "output_type": "stream",
          "name": "stdout",
          "text": [
            "Lasso()\n",
            "Ridge()\n",
            "RandomForestRegressor()\n",
            "KNeighborsRegressor()\n",
            "[19:00:32] WARNING: /workspace/src/objective/regression_obj.cu:152: reg:linear is now deprecated in favor of reg:squarederror.\n",
            "XGBRegressor()\n"
          ]
        }
      ],
      "source": [
        "model_score = {}\n",
        "for model in reg_models:\n",
        "   \n",
        "    mod_result = {}\n",
        "    try:\n",
        "        model.fit(X_train, y_train)      \n",
        "        y_pred =  model.predict(X_test)\n",
        "        mod_result['Train Accuracy'] =  model.score(X_train, y_train) * 100\n",
        "        mod_result['Test Accuracy'] =  model.score(X_test, y_test) * 100\n",
        "        model_score[str(model)] = mod_result\n",
        "        print (str(model))        \n",
        "    except Exception as e:\n",
        "       print ('Exception for Model {0} : {1}'.format(str(model),e))  "
      ]
    },
    {
      "cell_type": "code",
      "execution_count": 94,
      "metadata": {
        "id": "97RaRKAEe4dj",
        "outputId": "0469c761-b2ec-4f84-dcce-4b28449656c9",
        "colab": {
          "base_uri": "https://localhost:8080/"
        }
      },
      "outputs": [
        {
          "output_type": "stream",
          "name": "stdout",
          "text": [
            "\n",
            "LinearRegression()\n",
            "{'Train Accuracy': 82.11932546974231, 'Test Accuracy': 81.06079756779151}\n",
            "\n",
            "Lasso()\n",
            "{'Train Accuracy': 81.19700361216957, 'Test Accuracy': 79.63998560202758}\n",
            "\n",
            "Ridge()\n",
            "{'Train Accuracy': 82.11888922769258, 'Test Accuracy': 81.06013548865553}\n",
            "\n",
            "RandomForestRegressor()\n",
            "{'Train Accuracy': 99.48386095487398, 'Test Accuracy': 96.01719253473061}\n",
            "\n",
            "KNeighborsRegressor()\n",
            "{'Train Accuracy': 87.53965052463826, 'Test Accuracy': 78.47109081736954}\n",
            "\n",
            "XGBRegressor()\n",
            "{'Train Accuracy': 96.18276738625201, 'Test Accuracy': 94.06116587341}\n"
          ]
        }
      ],
      "source": [
        "for key , values in model_score.items():\n",
        "   if key == 'Predicted':\n",
        "     continue\n",
        "   print()\n",
        "   print(key)\n",
        "   print(values)"
      ]
    },
    {
      "cell_type": "code",
      "execution_count": 95,
      "metadata": {
        "id": "90QCiWlte4dj",
        "colab": {
          "base_uri": "https://localhost:8080/"
        },
        "outputId": "8e27d6bd-1daa-474d-b930-395c9a6778ad"
      },
      "outputs": [
        {
          "output_type": "execute_result",
          "data": {
            "text/plain": [
              "SelectKBest(k='all', score_func=<function f_regression at 0x7f97ccaffd40>)"
            ]
          },
          "metadata": {},
          "execution_count": 95
        }
      ],
      "source": [
        "#so here we can clearly see that the randomforestregressor is the best performing model but it is overfitting so we will deal with that\n",
        "#we will now use feature selection to see if we can improve the models \n",
        "fs = SelectKBest(score_func=f_regression, k='all')\n",
        "fs.fit(X_train, y_train)"
      ]
    },
    {
      "cell_type": "code",
      "execution_count": 96,
      "metadata": {
        "id": "MEnbAZ5-e4dj"
      },
      "outputs": [],
      "source": [
        "#using feature selection\n",
        "X_train_fs = fs.transform(X_train)\n",
        "X_test_fs = fs.transform(X_test)"
      ]
    },
    {
      "cell_type": "code",
      "execution_count": 97,
      "metadata": {
        "id": "kjcnv1KFe4dj",
        "colab": {
          "base_uri": "https://localhost:8080/"
        },
        "outputId": "6755bb9b-8412-4066-8f9d-04d8adbd8203"
      },
      "outputs": [
        {
          "output_type": "stream",
          "name": "stdout",
          "text": [
            "Feature 0: 680.386857\n",
            "Feature 1: 2112.585349\n",
            "Feature 2: 89.804639\n",
            "Feature 3: 393.667963\n",
            "Feature 4: 379.771026\n",
            "Feature 5: 1114.638463\n",
            "Feature 6: 115.679457\n",
            "Feature 7: 568.498995\n",
            "Feature 8: 90.565558\n",
            "Feature 9: 618.655081\n",
            "Feature 10: 1023.970120\n",
            "Feature 11: 502.019052\n",
            "Feature 12: 679.371560\n",
            "Feature 13: 644.968818\n",
            "Feature 14: 2016.846488\n",
            "Feature 15: 2293.067779\n",
            "Feature 16: 1.069000\n"
          ]
        }
      ],
      "source": [
        "for i in range(len(fs.scores_)):\n",
        "    print('Feature %d: %f' % (i, fs.scores_[i]))"
      ]
    },
    {
      "cell_type": "code",
      "execution_count": 98,
      "metadata": {
        "id": "I6fQcWFie4dj",
        "colab": {
          "base_uri": "https://localhost:8080/"
        },
        "outputId": "70a6f60a-d299-4744-fedc-bffe573d4c45"
      },
      "outputs": [
        {
          "output_type": "stream",
          "name": "stdout",
          "text": [
            "<class 'pandas.core.frame.DataFrame'>\n",
            "Int64Index: 2196 entries, 712 to 111\n",
            "Data columns (total 17 columns):\n",
            " #   Column              Non-Null Count  Dtype  \n",
            "---  ------              --------------  -----  \n",
            " 0   status              2196 non-null   int64  \n",
            " 1   adult_mortality     2196 non-null   float64\n",
            " 2   infant_death        2196 non-null   int64  \n",
            " 3   alcohol             2196 non-null   float64\n",
            " 4   expenditure         2196 non-null   float64\n",
            " 5   bmi                 2196 non-null   float64\n",
            " 6   under_five_deaths   2196 non-null   int64  \n",
            " 7   polio               2196 non-null   float64\n",
            " 8   total_expenditure   2196 non-null   float64\n",
            " 9   diphtheria          2196 non-null   float64\n",
            " 10  hiv_aids            2196 non-null   float64\n",
            " 11  gdp                 2196 non-null   float64\n",
            " 12  thinness_1to19      2196 non-null   float64\n",
            " 13  thinness_5to9       2196 non-null   float64\n",
            " 14  income_composition  2196 non-null   float64\n",
            " 15  schooling           2196 non-null   float64\n",
            " 16  country_code        2196 non-null   float64\n",
            "dtypes: float64(14), int64(3)\n",
            "memory usage: 308.8 KB\n"
          ]
        }
      ],
      "source": [
        "X_train.info()\n",
        "#infant_death, under_five_death, total_expenditure and country_code doesnt have much importance so we will proceed with the other features"
      ]
    },
    {
      "cell_type": "code",
      "execution_count": 99,
      "metadata": {
        "id": "wROQg3d0e4dk"
      },
      "outputs": [],
      "source": [
        "data_new.drop( columns = ['infant_death', 'under_five_deaths', 'total_expenditure', 'country_code'],inplace = True)"
      ]
    },
    {
      "cell_type": "code",
      "execution_count": 100,
      "metadata": {
        "id": "NdEM9Qube4dk"
      },
      "outputs": [],
      "source": [
        "X = data_new.drop(\"expectancy\", axis=1)\n",
        "y = data_new[\"expectancy\"]"
      ]
    },
    {
      "cell_type": "code",
      "execution_count": 101,
      "metadata": {
        "id": "qz4wPUP5e4dk"
      },
      "outputs": [],
      "source": [
        "#applying zscore \n",
        "X_scaled = X.apply(zscore)"
      ]
    },
    {
      "cell_type": "code",
      "execution_count": 102,
      "metadata": {
        "id": "sLaAs0HBe4dk"
      },
      "outputs": [],
      "source": [
        "X_train, X_test, y_train, y_test = train_test_split(X_scaled, y, test_size = 0.25, random_state = 547)"
      ]
    },
    {
      "cell_type": "code",
      "execution_count": 103,
      "metadata": {
        "id": "Y50k3tXye4dk"
      },
      "outputs": [],
      "source": [
        "#using randomizedsearchcv for finding the best params\n",
        "RF_ht = RandomForestRegressor()\n",
        "\n",
        "params_rf = {\"n_estimators\": np.arange(60,90,1),\"max_depth\": np.arange(5,20,1),\n",
        "          \"max_features\":np.arange(5,15,1),'min_samples_leaf': range(4, 8, 1),\n",
        "    'min_samples_split': range(10, 20, 1)}"
      ]
    },
    {
      "cell_type": "code",
      "execution_count": 104,
      "metadata": {
        "id": "xeOi_Gxce4dk",
        "colab": {
          "base_uri": "https://localhost:8080/"
        },
        "outputId": "bbbc7bed-dd0e-4995-e2c1-ee2d83a16c80"
      },
      "outputs": [
        {
          "output_type": "stream",
          "name": "stdout",
          "text": [
            "Fitting 5 folds for each of 5 candidates, totalling 25 fits\n"
          ]
        },
        {
          "output_type": "stream",
          "name": "stderr",
          "text": [
            "/usr/local/lib/python3.7/dist-packages/sklearn/model_selection/_validation.py:372: FitFailedWarning: \n",
            "5 fits failed out of a total of 25.\n",
            "The score on these train-test partitions for these parameters will be set to nan.\n",
            "If these failures are not expected, you can try to debug them by setting error_score='raise'.\n",
            "\n",
            "Below are more details about the failures:\n",
            "--------------------------------------------------------------------------------\n",
            "5 fits failed with the following error:\n",
            "Traceback (most recent call last):\n",
            "  File \"/usr/local/lib/python3.7/dist-packages/sklearn/model_selection/_validation.py\", line 680, in _fit_and_score\n",
            "    estimator.fit(X_train, y_train, **fit_params)\n",
            "  File \"/usr/local/lib/python3.7/dist-packages/sklearn/ensemble/_forest.py\", line 467, in fit\n",
            "    for i, t in enumerate(trees)\n",
            "  File \"/usr/local/lib/python3.7/dist-packages/joblib/parallel.py\", line 1043, in __call__\n",
            "    if self.dispatch_one_batch(iterator):\n",
            "  File \"/usr/local/lib/python3.7/dist-packages/joblib/parallel.py\", line 861, in dispatch_one_batch\n",
            "    self._dispatch(tasks)\n",
            "  File \"/usr/local/lib/python3.7/dist-packages/joblib/parallel.py\", line 779, in _dispatch\n",
            "    job = self._backend.apply_async(batch, callback=cb)\n",
            "  File \"/usr/local/lib/python3.7/dist-packages/joblib/_parallel_backends.py\", line 208, in apply_async\n",
            "    result = ImmediateResult(func)\n",
            "  File \"/usr/local/lib/python3.7/dist-packages/joblib/_parallel_backends.py\", line 572, in __init__\n",
            "    self.results = batch()\n",
            "  File \"/usr/local/lib/python3.7/dist-packages/joblib/parallel.py\", line 263, in __call__\n",
            "    for func, args, kwargs in self.items]\n",
            "  File \"/usr/local/lib/python3.7/dist-packages/joblib/parallel.py\", line 263, in <listcomp>\n",
            "    for func, args, kwargs in self.items]\n",
            "  File \"/usr/local/lib/python3.7/dist-packages/sklearn/utils/fixes.py\", line 216, in __call__\n",
            "    return self.function(*args, **kwargs)\n",
            "  File \"/usr/local/lib/python3.7/dist-packages/sklearn/ensemble/_forest.py\", line 185, in _parallel_build_trees\n",
            "    tree.fit(X, y, sample_weight=curr_sample_weight, check_input=False)\n",
            "  File \"/usr/local/lib/python3.7/dist-packages/sklearn/tree/_classes.py\", line 1320, in fit\n",
            "    X_idx_sorted=X_idx_sorted,\n",
            "  File \"/usr/local/lib/python3.7/dist-packages/sklearn/tree/_classes.py\", line 308, in fit\n",
            "    raise ValueError(\"max_features must be in (0, n_features]\")\n",
            "ValueError: max_features must be in (0, n_features]\n",
            "\n",
            "  warnings.warn(some_fits_failed_message, FitFailedWarning)\n",
            "/usr/local/lib/python3.7/dist-packages/sklearn/model_selection/_search.py:972: UserWarning: One or more of the test scores are non-finite: [0.94763006 0.9423273         nan 0.94508006 0.94340315]\n",
            "  category=UserWarning,\n"
          ]
        },
        {
          "output_type": "execute_result",
          "data": {
            "text/plain": [
              "RandomizedSearchCV(cv=5, estimator=RandomForestRegressor(), n_iter=5, n_jobs=-1,\n",
              "                   param_distributions={'max_depth': array([ 5,  6,  7,  8,  9, 10, 11, 12, 13, 14, 15, 16, 17, 18, 19]),\n",
              "                                        'max_features': array([ 5,  6,  7,  8,  9, 10, 11, 12, 13, 14]),\n",
              "                                        'min_samples_leaf': range(4, 8),\n",
              "                                        'min_samples_split': range(10, 20),\n",
              "                                        'n_estimators': array([60, 61, 62, 63, 64, 65, 66, 67, 68, 69, 70, 71, 72, 73, 74, 75, 76,\n",
              "       77, 78, 79, 80, 81, 82, 83, 84, 85, 86, 87, 88, 89])},\n",
              "                   random_state=35, verbose=2)"
            ]
          },
          "metadata": {},
          "execution_count": 104
        }
      ],
      "source": [
        "rf_random = RandomizedSearchCV(estimator = RF_ht, param_distributions = params_rf,\n",
        "               n_iter = 5, cv = 5, verbose=2, random_state=35, n_jobs = -1)\n",
        "rf_random.fit(X_train, y_train) "
      ]
    },
    {
      "cell_type": "code",
      "execution_count": 105,
      "metadata": {
        "id": "nXjT9y_Ce4dk",
        "colab": {
          "base_uri": "https://localhost:8080/"
        },
        "outputId": "1febfba1-2c22-411e-f9b9-c3354958469e"
      },
      "outputs": [
        {
          "output_type": "stream",
          "name": "stdout",
          "text": [
            "{'n_estimators': 63, 'min_samples_split': 16, 'min_samples_leaf': 6, 'max_features': 11, 'max_depth': 14}\n",
            "0.9476300603343194\n"
          ]
        }
      ],
      "source": [
        "print (rf_random.best_params_)\n",
        "print (rf_random.best_score_)"
      ]
    },
    {
      "cell_type": "code",
      "execution_count": 106,
      "metadata": {
        "id": "TH4Ldbkje4dk"
      },
      "outputs": [],
      "source": [
        "#using max depth 5 since the model is being overfitted if we use 14\n",
        "model = RandomForestRegressor(n_estimators=63, min_samples_split= 16, min_samples_leaf= 6, max_features= 11, max_depth=5)"
      ]
    },
    {
      "cell_type": "code",
      "execution_count": 107,
      "metadata": {
        "id": "sJ6FkI6ie4dl",
        "colab": {
          "base_uri": "https://localhost:8080/"
        },
        "outputId": "c1fc5905-f27d-4386-fa5d-972ead1e949e"
      },
      "outputs": [
        {
          "output_type": "execute_result",
          "data": {
            "text/plain": [
              "RandomForestRegressor(max_depth=5, max_features=11, min_samples_leaf=6,\n",
              "                      min_samples_split=16, n_estimators=63)"
            ]
          },
          "metadata": {},
          "execution_count": 107
        }
      ],
      "source": [
        "model.fit(X_train, y_train)"
      ]
    },
    {
      "cell_type": "code",
      "execution_count": 108,
      "metadata": {
        "id": "fxkoa_sMe4dl",
        "colab": {
          "base_uri": "https://localhost:8080/"
        },
        "outputId": "13d3c069-aa37-440e-b9f6-fbbc3de81ed5"
      },
      "outputs": [
        {
          "output_type": "execute_result",
          "data": {
            "text/plain": [
              "94.07906264050914"
            ]
          },
          "metadata": {},
          "execution_count": 108
        }
      ],
      "source": [
        "model.score(X_train, y_train) * 100"
      ]
    },
    {
      "cell_type": "code",
      "execution_count": 109,
      "metadata": {
        "id": "YJnlzaqte4dl",
        "colab": {
          "base_uri": "https://localhost:8080/"
        },
        "outputId": "b7df6e0e-22e8-4812-bf16-f03e895b7328"
      },
      "outputs": [
        {
          "output_type": "execute_result",
          "data": {
            "text/plain": [
              "92.22377663726834"
            ]
          },
          "metadata": {},
          "execution_count": 109
        }
      ],
      "source": [
        " model.score(X_test, y_test) * 100"
      ]
    },
    {
      "cell_type": "code",
      "execution_count": 109,
      "metadata": {
        "id": "K6aogytue4dl"
      },
      "outputs": [],
      "source": [
        ""
      ]
    }
  ],
  "metadata": {
    "kernelspec": {
      "display_name": "Python 3",
      "language": "python",
      "name": "python3"
    },
    "language_info": {
      "codemirror_mode": {
        "name": "ipython",
        "version": 3
      },
      "file_extension": ".py",
      "mimetype": "text/x-python",
      "name": "python",
      "nbconvert_exporter": "python",
      "pygments_lexer": "ipython3",
      "version": "3.8.5"
    },
    "colab": {
      "name": "LifeExpectancy.ipynb",
      "provenance": []
    }
  },
  "nbformat": 4,
  "nbformat_minor": 0
}